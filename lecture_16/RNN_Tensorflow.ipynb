{
  "nbformat": 4,
  "nbformat_minor": 0,
  "metadata": {
    "colab": {
      "name": "RNN_Tensorflow.ipynb",
      "provenance": [],
      "collapsed_sections": []
    },
    "kernelspec": {
      "name": "python3",
      "display_name": "Python 3"
    }
  },
  "cells": [
    {
      "cell_type": "markdown",
      "metadata": {
        "id": "D2r7FXPz5Sjn"
      },
      "source": [
        "Ноутбук с анализом временного ряда с использованием библиотеки Tensorflow"
      ]
    },
    {
      "cell_type": "markdown",
      "metadata": {
        "id": "EWvgR3QiLp-M"
      },
      "source": [
        "- Tensorflow для начинающих: \n",
        "https://www.tensorflow.org/tutorials/quickstart/beginner\n",
        "\n",
        "- Tutorial по работе с временными данными в Tensorflow:\n",
        "https://www.tensorflow.org/tutorials/structured_data/time_series"
      ]
    },
    {
      "cell_type": "markdown",
      "metadata": {
        "id": "a0NjYpNy9Thy"
      },
      "source": [
        "Часть 1. LSTM для задачи Регрессии"
      ]
    },
    {
      "cell_type": "code",
      "metadata": {
        "colab": {
          "base_uri": "https://localhost:8080/",
          "height": 265
        },
        "id": "fAEhuxDT5O3w",
        "outputId": "b14e900f-4e1c-4856-ac82-ec69eee0503d"
      },
      "source": [
        "import pandas\n",
        "import matplotlib.pyplot as plt\n",
        "dataset = pandas.read_csv('https://raw.githubusercontent.com/jbrownlee/Datasets/master/airline-passengers.csv', usecols=[1], engine='python')\n",
        "plt.plot(dataset)\n",
        "plt.show()"
      ],
      "execution_count": null,
      "outputs": [
        {
          "output_type": "display_data",
          "data": {
            "image/png": "[encoded data removed]",
            "text/plain": [
              "<Figure size 432x288 with 1 Axes>"
            ]
          },
          "metadata": {
            "tags": [],
            "needs_background": "light"
          }
        }
      ]
    },
    {
      "cell_type": "code",
      "metadata": {
        "id": "qBplPVqG7HFz"
      },
      "source": [
        "import numpy\n",
        "import matplotlib.pyplot as plt\n",
        "import pandas\n",
        "import math\n",
        "from keras.models import Sequential\n",
        "from keras.layers import Dense\n",
        "from keras.layers import LSTM\n",
        "from sklearn.preprocessing import MinMaxScaler\n",
        "from sklearn.metrics import mean_squared_error\n",
        "numpy.random.seed(7)"
      ],
      "execution_count": null,
      "outputs": []
    },
    {
      "cell_type": "code",
      "metadata": {
        "id": "SGYgyxJr7LA4"
      },
      "source": [
        "# load the dataset\n",
        "dataframe = pandas.read_csv('https://raw.githubusercontent.com/jbrownlee/Datasets/master/airline-passengers.csv', usecols=[1], engine='python')\n",
        "dataset = dataframe.values\n",
        "dataset = dataset.astype('float32')"
      ],
      "execution_count": null,
      "outputs": []
    },
    {
      "cell_type": "code",
      "metadata": {
        "id": "FnopqaQK7UJa"
      },
      "source": [
        "# normalize the dataset\n",
        "scaler = MinMaxScaler(feature_range=(0, 1))\n",
        "dataset = scaler.fit_transform(dataset)"
      ],
      "execution_count": null,
      "outputs": []
    },
    {
      "cell_type": "code",
      "metadata": {
        "colab": {
          "base_uri": "https://localhost:8080/"
        },
        "id": "86stK2so7WCK",
        "outputId": "bb630d4b-d100-41a4-d736-f8692dbcdcc5"
      },
      "source": [
        "# split into train and test sets\n",
        "train_size = int(len(dataset) * 0.67)\n",
        "test_size = len(dataset) - train_size\n",
        "train, test = dataset[0:train_size,:], dataset[train_size:len(dataset),:]\n",
        "print(len(train), len(test))"
      ],
      "execution_count": null,
      "outputs": [
        {
          "output_type": "stream",
          "text": [
            "96 48\n"
          ],
          "name": "stdout"
        }
      ]
    },
    {
      "cell_type": "code",
      "metadata": {
        "id": "jgyQbD-Q7Xqd"
      },
      "source": [
        "# convert an array of values into a dataset matrix\n",
        "def create_dataset(dataset, look_back=1):\n",
        "\tdataX, dataY = [], []\n",
        "\tfor i in range(len(dataset)-look_back-1):\n",
        "\t\ta = dataset[i:(i+look_back), 0]\n",
        "\t\tdataX.append(a)\n",
        "\t\tdataY.append(dataset[i + look_back, 0])\n",
        "\treturn numpy.array(dataX), numpy.array(dataY)"
      ],
      "execution_count": null,
      "outputs": []
    },
    {
      "cell_type": "code",
      "metadata": {
        "id": "5smIn2QL7ZmY"
      },
      "source": [
        "# reshape into X=t and Y=t+1\n",
        "look_back = 1\n",
        "trainX, trainY = create_dataset(train, look_back)\n",
        "testX, testY = create_dataset(test, look_back)"
      ],
      "execution_count": null,
      "outputs": []
    },
    {
      "cell_type": "code",
      "metadata": {
        "colab": {
          "base_uri": "https://localhost:8080/"
        },
        "id": "85VMGsfg7bp0",
        "outputId": "b4460e76-43f1-459d-fdbb-86f7cfd760cc"
      },
      "source": [
        "print('Train X: \\n')\n",
        "print(trainX[:7])\n",
        "print('Train Y: \\n')\n",
        "print(trainY[:7])"
      ],
      "execution_count": null,
      "outputs": [
        {
          "output_type": "stream",
          "text": [
            "Train X: \n",
            "\n",
            "[[0.01544401]\n",
            " [0.02702703]\n",
            " [0.05405405]\n",
            " [0.04826255]\n",
            " [0.03281853]\n",
            " [0.05984557]\n",
            " [0.08494207]]\n",
            "Train Y: \n",
            "\n",
            "[0.02702703 0.05405405 0.04826255 0.03281853 0.05984557 0.08494207\n",
            " 0.08494207]\n"
          ],
          "name": "stdout"
        }
      ]
    },
    {
      "cell_type": "code",
      "metadata": {
        "colab": {
          "base_uri": "https://localhost:8080/"
        },
        "id": "1DsYVTEO9pDg",
        "outputId": "1588a7cc-bc81-4bf2-c5ec-1d2448251946"
      },
      "source": [
        "print(trainX.shape, trainY.shape)"
      ],
      "execution_count": null,
      "outputs": [
        {
          "output_type": "stream",
          "text": [
            "(94, 1) (94,)\n"
          ],
          "name": "stdout"
        }
      ]
    },
    {
      "cell_type": "code",
      "metadata": {
        "colab": {
          "base_uri": "https://localhost:8080/"
        },
        "id": "pmFHX4Dk9x0T",
        "outputId": "af300a74-a500-4b2c-eab1-65ba57d212ac"
      },
      "source": [
        "print(testX.shape, testY.shape)"
      ],
      "execution_count": null,
      "outputs": [
        {
          "output_type": "stream",
          "text": [
            "(46, 1) (46,)\n"
          ],
          "name": "stdout"
        }
      ]
    },
    {
      "cell_type": "code",
      "metadata": {
        "id": "ThDDIT197cqm"
      },
      "source": [
        "# reshape input to be [samples, time steps, features]\n",
        "trainX = numpy.reshape(trainX, (trainX.shape[0], 1, trainX.shape[1]))\n",
        "testX = numpy.reshape(testX, (testX.shape[0], 1, testX.shape[1]))"
      ],
      "execution_count": null,
      "outputs": []
    },
    {
      "cell_type": "code",
      "metadata": {
        "colab": {
          "base_uri": "https://localhost:8080/"
        },
        "id": "NDPM8vXM7uoV",
        "outputId": "f0a7f87b-60b7-414d-aa71-0dbab68129cb"
      },
      "source": [
        "# create and fit the LSTM network\n",
        "model = Sequential()\n",
        "model.add(LSTM(4, input_shape=(1, look_back)))\n",
        "model.add(Dense(1))\n",
        "model.compile(loss='mean_squared_error',\n",
        "              optimizer='adam')\n",
        "model.fit(trainX, trainY, epochs=100, batch_size=1, verbose=2)"
      ],
      "execution_count": null,
      "outputs": [
        {
          "output_type": "stream",
          "text": [
            "Epoch 1/100\n",
            "94/94 - 2s - loss: 0.0495\n",
            "Epoch 2/100\n",
            "94/94 - 0s - loss: 0.0242\n",
            "Epoch 3/100\n",
            "94/94 - 0s - loss: 0.0169\n",
            "Epoch 4/100\n",
            "94/94 - 0s - loss: 0.0154\n",
            "Epoch 5/100\n",
            "94/94 - 0s - loss: 0.0144\n",
            "Epoch 6/100\n",
            "94/94 - 0s - loss: 0.0135\n",
            "Epoch 7/100\n",
            "94/94 - 0s - loss: 0.0124\n",
            "Epoch 8/100\n",
            "94/94 - 0s - loss: 0.0113\n",
            "Epoch 9/100\n",
            "94/94 - 0s - loss: 0.0106\n",
            "Epoch 10/100\n",
            "94/94 - 0s - loss: 0.0093\n",
            "Epoch 11/100\n",
            "94/94 - 0s - loss: 0.0082\n",
            "Epoch 12/100\n",
            "94/94 - 0s - loss: 0.0072\n",
            "Epoch 13/100\n",
            "94/94 - 0s - loss: 0.0063\n",
            "Epoch 14/100\n",
            "94/94 - 0s - loss: 0.0054\n",
            "Epoch 15/100\n",
            "94/94 - 0s - loss: 0.0047\n",
            "Epoch 16/100\n",
            "94/94 - 0s - loss: 0.0040\n",
            "Epoch 17/100\n",
            "94/94 - 0s - loss: 0.0035\n",
            "Epoch 18/100\n",
            "94/94 - 0s - loss: 0.0030\n",
            "Epoch 19/100\n",
            "94/94 - 0s - loss: 0.0027\n",
            "Epoch 20/100\n",
            "94/94 - 0s - loss: 0.0025\n",
            "Epoch 21/100\n",
            "94/94 - 0s - loss: 0.0023\n",
            "Epoch 22/100\n",
            "94/94 - 0s - loss: 0.0022\n",
            "Epoch 23/100\n",
            "94/94 - 0s - loss: 0.0021\n",
            "Epoch 24/100\n",
            "94/94 - 0s - loss: 0.0021\n",
            "Epoch 25/100\n",
            "94/94 - 0s - loss: 0.0020\n",
            "Epoch 26/100\n",
            "94/94 - 0s - loss: 0.0020\n",
            "Epoch 27/100\n",
            "94/94 - 0s - loss: 0.0021\n",
            "Epoch 28/100\n",
            "94/94 - 0s - loss: 0.0020\n",
            "Epoch 29/100\n",
            "94/94 - 0s - loss: 0.0021\n",
            "Epoch 30/100\n",
            "94/94 - 0s - loss: 0.0020\n",
            "Epoch 31/100\n",
            "94/94 - 0s - loss: 0.0020\n",
            "Epoch 32/100\n",
            "94/94 - 0s - loss: 0.0020\n",
            "Epoch 33/100\n",
            "94/94 - 0s - loss: 0.0020\n",
            "Epoch 34/100\n",
            "94/94 - 0s - loss: 0.0021\n",
            "Epoch 35/100\n",
            "94/94 - 0s - loss: 0.0020\n",
            "Epoch 36/100\n",
            "94/94 - 0s - loss: 0.0020\n",
            "Epoch 37/100\n",
            "94/94 - 0s - loss: 0.0021\n",
            "Epoch 38/100\n",
            "94/94 - 0s - loss: 0.0020\n",
            "Epoch 39/100\n",
            "94/94 - 0s - loss: 0.0020\n",
            "Epoch 40/100\n",
            "94/94 - 0s - loss: 0.0020\n",
            "Epoch 41/100\n",
            "94/94 - 0s - loss: 0.0020\n",
            "Epoch 42/100\n",
            "94/94 - 0s - loss: 0.0021\n",
            "Epoch 43/100\n",
            "94/94 - 0s - loss: 0.0020\n",
            "Epoch 44/100\n",
            "94/94 - 0s - loss: 0.0020\n",
            "Epoch 45/100\n",
            "94/94 - 0s - loss: 0.0020\n",
            "Epoch 46/100\n",
            "94/94 - 0s - loss: 0.0020\n",
            "Epoch 47/100\n",
            "94/94 - 0s - loss: 0.0020\n",
            "Epoch 48/100\n",
            "94/94 - 0s - loss: 0.0020\n",
            "Epoch 49/100\n",
            "94/94 - 0s - loss: 0.0020\n",
            "Epoch 50/100\n",
            "94/94 - 0s - loss: 0.0020\n",
            "Epoch 51/100\n",
            "94/94 - 0s - loss: 0.0020\n",
            "Epoch 52/100\n",
            "94/94 - 0s - loss: 0.0020\n",
            "Epoch 53/100\n",
            "94/94 - 0s - loss: 0.0020\n",
            "Epoch 54/100\n",
            "94/94 - 0s - loss: 0.0021\n",
            "Epoch 55/100\n",
            "94/94 - 0s - loss: 0.0021\n",
            "Epoch 56/100\n",
            "94/94 - 0s - loss: 0.0020\n",
            "Epoch 57/100\n",
            "94/94 - 0s - loss: 0.0021\n",
            "Epoch 58/100\n",
            "94/94 - 0s - loss: 0.0020\n",
            "Epoch 59/100\n",
            "94/94 - 0s - loss: 0.0021\n",
            "Epoch 60/100\n",
            "94/94 - 0s - loss: 0.0020\n",
            "Epoch 61/100\n",
            "94/94 - 0s - loss: 0.0020\n",
            "Epoch 62/100\n",
            "94/94 - 0s - loss: 0.0019\n",
            "Epoch 63/100\n",
            "94/94 - 0s - loss: 0.0021\n",
            "Epoch 64/100\n",
            "94/94 - 0s - loss: 0.0020\n",
            "Epoch 65/100\n",
            "94/94 - 0s - loss: 0.0019\n",
            "Epoch 66/100\n",
            "94/94 - 0s - loss: 0.0021\n",
            "Epoch 67/100\n",
            "94/94 - 0s - loss: 0.0020\n",
            "Epoch 68/100\n",
            "94/94 - 0s - loss: 0.0021\n",
            "Epoch 69/100\n",
            "94/94 - 0s - loss: 0.0020\n",
            "Epoch 70/100\n",
            "94/94 - 0s - loss: 0.0020\n",
            "Epoch 71/100\n",
            "94/94 - 0s - loss: 0.0020\n",
            "Epoch 72/100\n",
            "94/94 - 0s - loss: 0.0019\n",
            "Epoch 73/100\n",
            "94/94 - 0s - loss: 0.0020\n",
            "Epoch 74/100\n",
            "94/94 - 0s - loss: 0.0020\n",
            "Epoch 75/100\n",
            "94/94 - 0s - loss: 0.0020\n",
            "Epoch 76/100\n",
            "94/94 - 0s - loss: 0.0021\n",
            "Epoch 77/100\n",
            "94/94 - 0s - loss: 0.0021\n",
            "Epoch 78/100\n",
            "94/94 - 0s - loss: 0.0020\n",
            "Epoch 79/100\n",
            "94/94 - 0s - loss: 0.0021\n",
            "Epoch 80/100\n",
            "94/94 - 0s - loss: 0.0020\n",
            "Epoch 81/100\n",
            "94/94 - 0s - loss: 0.0020\n",
            "Epoch 82/100\n",
            "94/94 - 0s - loss: 0.0020\n",
            "Epoch 83/100\n",
            "94/94 - 0s - loss: 0.0021\n",
            "Epoch 84/100\n",
            "94/94 - 0s - loss: 0.0020\n",
            "Epoch 85/100\n",
            "94/94 - 0s - loss: 0.0020\n",
            "Epoch 86/100\n",
            "94/94 - 0s - loss: 0.0020\n",
            "Epoch 87/100\n",
            "94/94 - 0s - loss: 0.0020\n",
            "Epoch 88/100\n",
            "94/94 - 0s - loss: 0.0020\n",
            "Epoch 89/100\n",
            "94/94 - 0s - loss: 0.0020\n",
            "Epoch 90/100\n",
            "94/94 - 0s - loss: 0.0020\n",
            "Epoch 91/100\n",
            "94/94 - 0s - loss: 0.0020\n",
            "Epoch 92/100\n",
            "94/94 - 0s - loss: 0.0020\n",
            "Epoch 93/100\n",
            "94/94 - 0s - loss: 0.0020\n",
            "Epoch 94/100\n",
            "94/94 - 0s - loss: 0.0020\n",
            "Epoch 95/100\n",
            "94/94 - 0s - loss: 0.0020\n",
            "Epoch 96/100\n",
            "94/94 - 0s - loss: 0.0020\n",
            "Epoch 97/100\n",
            "94/94 - 0s - loss: 0.0020\n",
            "Epoch 98/100\n",
            "94/94 - 0s - loss: 0.0020\n",
            "Epoch 99/100\n",
            "94/94 - 0s - loss: 0.0020\n",
            "Epoch 100/100\n",
            "94/94 - 0s - loss: 0.0021\n"
          ],
          "name": "stdout"
        },
        {
          "output_type": "execute_result",
          "data": {
            "text/plain": [
              "<tensorflow.python.keras.callbacks.History at 0x7f44c40145c0>"
            ]
          },
          "metadata": {
            "tags": []
          },
          "execution_count": 17
        }
      ]
    },
    {
      "cell_type": "code",
      "metadata": {
        "colab": {
          "base_uri": "https://localhost:8080/"
        },
        "id": "5ENRfci17yqY",
        "outputId": "10e8ec43-62ea-4886-e192-6791e0922258"
      },
      "source": [
        "# make predictions\n",
        "trainPredict = model.predict(trainX)\n",
        "testPredict = model.predict(testX)\n",
        "# invert predictions\n",
        "trainPredict = scaler.inverse_transform(trainPredict)\n",
        "trainY = scaler.inverse_transform([trainY])\n",
        "testPredict = scaler.inverse_transform(testPredict)\n",
        "testY = scaler.inverse_transform([testY])\n",
        "# calculate root mean squared error\n",
        "trainScore = math.sqrt(mean_squared_error(trainY[0], trainPredict[:,0]))\n",
        "print('Train Score: %.2f RMSE' % (trainScore))\n",
        "testScore = math.sqrt(mean_squared_error(testY[0], testPredict[:,0]))\n",
        "print('Test Score: %.2f RMSE' % (testScore))"
      ],
      "execution_count": null,
      "outputs": [
        {
          "output_type": "stream",
          "text": [
            "Train Score: 22.71 RMSE\n",
            "Test Score: 49.07 RMSE\n"
          ],
          "name": "stdout"
        }
      ]
    },
    {
      "cell_type": "code",
      "metadata": {
        "id": "dwJLVp5g7wJZ"
      },
      "source": [
        "# shift train predictions for plotting\n",
        "trainPredictPlot = numpy.empty_like(dataset)\n",
        "trainPredictPlot[:, :] = numpy.nan\n",
        "trainPredictPlot[look_back:len(trainPredict)+look_back, :] = trainPredict\n",
        "# shift test predictions for plotting\n",
        "testPredictPlot = numpy.empty_like(dataset)\n",
        "testPredictPlot[:, :] = numpy.nan\n",
        "testPredictPlot[len(trainPredict)+(look_back*2)+1:len(dataset)-1, :] = testPredict"
      ],
      "execution_count": null,
      "outputs": []
    },
    {
      "cell_type": "code",
      "metadata": {
        "colab": {
          "base_uri": "https://localhost:8080/",
          "height": 320
        },
        "id": "qLkyDGAN7485",
        "outputId": "7719c1c6-ce32-4d04-abb1-7a0f4a81e02c"
      },
      "source": [
        "# plot baseline and predictions\n",
        "plt.figure(figsize = (10,5))\n",
        "plt.plot(scaler.inverse_transform(dataset), label = 'Full original data')\n",
        "plt.plot(trainPredictPlot, label = 'Train')\n",
        "plt.plot(testPredictPlot, label = 'Test')\n",
        "plt.legend()\n",
        "plt.show()"
      ],
      "execution_count": null,
      "outputs": [
        {
          "output_type": "display_data",
          "data": {
            "image/png": "[encoded data removed]",
            "text/plain": [
              "<Figure size 720x360 with 1 Axes>"
            ]
          },
          "metadata": {
            "tags": [],
            "needs_background": "light"
          }
        }
      ]
    },
    {
      "cell_type": "markdown",
      "metadata": {
        "id": "kxHWOXYO9Xp0"
      },
      "source": [
        "Часть 2. LSTM для Регрессии с использованием оконного метода"
      ]
    },
    {
      "cell_type": "code",
      "metadata": {
        "id": "vs_nexun70tq"
      },
      "source": [
        "# LSTM for international airline passengers problem with window regression framing\n",
        "import numpy\n",
        "import matplotlib.pyplot as plt\n",
        "from pandas import read_csv\n",
        "import math\n",
        "from keras.models import Sequential\n",
        "from keras.layers import Dense\n",
        "from keras.layers import LSTM\n",
        "from sklearn.preprocessing import MinMaxScaler\n",
        "from sklearn.metrics import mean_squared_error\n",
        "# convert an array of values into a dataset matrix\n",
        "def create_dataset(dataset, look_back=1):\n",
        "\tdataX, dataY = [], []\n",
        "\tfor i in range(len(dataset)-look_back-1):\n",
        "\t\ta = dataset[i:(i+look_back), 0]\n",
        "\t\tdataX.append(a)\n",
        "\t\tdataY.append(dataset[i + look_back, 0])\n",
        "\treturn numpy.array(dataX), numpy.array(dataY)\n",
        "# fix random seed for reproducibility\n",
        "numpy.random.seed(7)\n",
        "# load the dataset\n",
        "dataframe = read_csv('https://raw.githubusercontent.com/jbrownlee/Datasets/master/airline-passengers.csv', usecols=[1], engine='python')\n",
        "dataset = dataframe.values\n",
        "dataset = dataset.astype('float32')\n",
        "# normalize the dataset\n",
        "scaler = MinMaxScaler(feature_range=(0, 1))\n",
        "dataset = scaler.fit_transform(dataset)\n",
        "# split into train and test sets\n",
        "train_size = int(len(dataset) * 0.67)\n",
        "test_size = len(dataset) - train_size\n",
        "train, test = dataset[0:train_size,:], dataset[train_size:len(dataset),:]\n",
        "# reshape into X=t and Y=t+1\n",
        "look_back = 3\n",
        "trainX, trainY = create_dataset(train, look_back)\n",
        "testX, testY = create_dataset(test, look_back)\n",
        "# reshape input to be [samples, time steps, features]\n",
        "trainX = numpy.reshape(trainX, (trainX.shape[0], 1, trainX.shape[1]))\n",
        "testX = numpy.reshape(testX, (testX.shape[0], 1, testX.shape[1]))"
      ],
      "execution_count": null,
      "outputs": []
    },
    {
      "cell_type": "code",
      "metadata": {
        "colab": {
          "base_uri": "https://localhost:8080/"
        },
        "id": "xuxwhNDu9DWU",
        "outputId": "6cf19754-b65e-49b0-dfb6-093dc2d67cd6"
      },
      "source": [
        "print('Train X: \\n')\n",
        "print(trainX[:7])\n",
        "print('Train Y: \\n')\n",
        "print(trainY[:7])"
      ],
      "execution_count": null,
      "outputs": [
        {
          "output_type": "stream",
          "text": [
            "Train X: \n",
            "\n",
            "[[[0.01544401 0.02702703 0.05405405]]\n",
            "\n",
            " [[0.02702703 0.05405405 0.04826255]]\n",
            "\n",
            " [[0.05405405 0.04826255 0.03281853]]\n",
            "\n",
            " [[0.04826255 0.03281853 0.05984557]]\n",
            "\n",
            " [[0.03281853 0.05984557 0.08494207]]\n",
            "\n",
            " [[0.05984557 0.08494207 0.08494207]]\n",
            "\n",
            " [[0.08494207 0.08494207 0.06177607]]]\n",
            "Train Y: \n",
            "\n",
            "[0.04826255 0.03281853 0.05984557 0.08494207 0.08494207 0.06177607\n",
            " 0.02895753]\n"
          ],
          "name": "stdout"
        }
      ]
    },
    {
      "cell_type": "code",
      "metadata": {
        "colab": {
          "base_uri": "https://localhost:8080/"
        },
        "id": "zyakCaD49fmm",
        "outputId": "dadcafbd-bf6d-43f5-efa0-8b7605ae505e"
      },
      "source": [
        "print(trainX.shape, trainY.shape)"
      ],
      "execution_count": null,
      "outputs": [
        {
          "output_type": "stream",
          "text": [
            "(92, 1, 3) (92,)\n"
          ],
          "name": "stdout"
        }
      ]
    },
    {
      "cell_type": "code",
      "metadata": {
        "colab": {
          "base_uri": "https://localhost:8080/"
        },
        "id": "lFYersm19uQe",
        "outputId": "edbfb9f1-15fa-468f-f887-a3b2f95ae34d"
      },
      "source": [
        "print(testX.shape, testY.shape)"
      ],
      "execution_count": null,
      "outputs": [
        {
          "output_type": "stream",
          "text": [
            "(44, 1, 3) (44,)\n"
          ],
          "name": "stdout"
        }
      ]
    },
    {
      "cell_type": "code",
      "metadata": {
        "colab": {
          "base_uri": "https://localhost:8080/",
          "height": 1000
        },
        "id": "PiESIw_w8bI3",
        "outputId": "742eb229-0557-402d-a58c-d5d5576b0f3d"
      },
      "source": [
        "# create and fit the LSTM network\n",
        "model = Sequential()\n",
        "model.add(LSTM(4, input_shape=(1, look_back)))\n",
        "model.add(Dense(1))\n",
        "model.compile(loss='mean_squared_error', optimizer='adam')\n",
        "model.fit(trainX, trainY, epochs=100, batch_size=1, verbose=2)\n",
        "# make predictions\n",
        "trainPredict = model.predict(trainX)\n",
        "testPredict = model.predict(testX)\n",
        "# invert predictions\n",
        "trainPredict = scaler.inverse_transform(trainPredict)\n",
        "trainY = scaler.inverse_transform([trainY])\n",
        "testPredict = scaler.inverse_transform(testPredict)\n",
        "testY = scaler.inverse_transform([testY])\n",
        "# calculate root mean squared error\n",
        "trainScore = math.sqrt(mean_squared_error(trainY[0], trainPredict[:,0]))\n",
        "print('Train Score: %.2f RMSE' % (trainScore))\n",
        "testScore = math.sqrt(mean_squared_error(testY[0], testPredict[:,0]))\n",
        "print('Test Score: %.2f RMSE' % (testScore))\n",
        "# shift train predictions for plotting\n",
        "trainPredictPlot = numpy.empty_like(dataset)\n",
        "trainPredictPlot[:, :] = numpy.nan\n",
        "trainPredictPlot[look_back:len(trainPredict)+look_back, :] = trainPredict\n",
        "# shift test predictions for plotting\n",
        "testPredictPlot = numpy.empty_like(dataset)\n",
        "testPredictPlot[:, :] = numpy.nan\n",
        "testPredictPlot[len(trainPredict)+(look_back*2)+1:len(dataset)-1, :] = testPredict\n",
        "# plot baseline and predictions\n",
        "plt.plot(scaler.inverse_transform(dataset))\n",
        "plt.plot(trainPredictPlot)\n",
        "plt.plot(testPredictPlot)\n",
        "plt.show()"
      ],
      "execution_count": null,
      "outputs": [
        {
          "output_type": "stream",
          "text": [
            "Epoch 1/100\n",
            "92/92 - 1s - loss: 0.0345\n",
            "Epoch 2/100\n",
            "92/92 - 0s - loss: 0.0152\n",
            "Epoch 3/100\n",
            "92/92 - 0s - loss: 0.0108\n",
            "Epoch 4/100\n",
            "92/92 - 0s - loss: 0.0094\n",
            "Epoch 5/100\n",
            "92/92 - 0s - loss: 0.0085\n",
            "Epoch 6/100\n",
            "92/92 - 0s - loss: 0.0077\n",
            "Epoch 7/100\n",
            "92/92 - 0s - loss: 0.0069\n",
            "Epoch 8/100\n",
            "92/92 - 0s - loss: 0.0063\n",
            "Epoch 9/100\n",
            "92/92 - 0s - loss: 0.0057\n",
            "Epoch 10/100\n",
            "92/92 - 0s - loss: 0.0052\n",
            "Epoch 11/100\n",
            "92/92 - 0s - loss: 0.0049\n",
            "Epoch 12/100\n",
            "92/92 - 0s - loss: 0.0046\n",
            "Epoch 13/100\n",
            "92/92 - 0s - loss: 0.0044\n",
            "Epoch 14/100\n",
            "92/92 - 0s - loss: 0.0042\n",
            "Epoch 15/100\n",
            "92/92 - 0s - loss: 0.0041\n",
            "Epoch 16/100\n",
            "92/92 - 0s - loss: 0.0040\n",
            "Epoch 17/100\n",
            "92/92 - 0s - loss: 0.0039\n",
            "Epoch 18/100\n",
            "92/92 - 0s - loss: 0.0037\n",
            "Epoch 19/100\n",
            "92/92 - 0s - loss: 0.0037\n",
            "Epoch 20/100\n",
            "92/92 - 0s - loss: 0.0036\n",
            "Epoch 21/100\n",
            "92/92 - 0s - loss: 0.0035\n",
            "Epoch 22/100\n",
            "92/92 - 0s - loss: 0.0034\n",
            "Epoch 23/100\n",
            "92/92 - 0s - loss: 0.0033\n",
            "Epoch 24/100\n",
            "92/92 - 0s - loss: 0.0033\n",
            "Epoch 25/100\n",
            "92/92 - 0s - loss: 0.0031\n",
            "Epoch 26/100\n",
            "92/92 - 0s - loss: 0.0031\n",
            "Epoch 27/100\n",
            "92/92 - 0s - loss: 0.0030\n",
            "Epoch 28/100\n",
            "92/92 - 0s - loss: 0.0030\n",
            "Epoch 29/100\n",
            "92/92 - 0s - loss: 0.0028\n",
            "Epoch 30/100\n",
            "92/92 - 0s - loss: 0.0028\n",
            "Epoch 31/100\n",
            "92/92 - 0s - loss: 0.0027\n",
            "Epoch 32/100\n",
            "92/92 - 0s - loss: 0.0026\n",
            "Epoch 33/100\n",
            "92/92 - 0s - loss: 0.0025\n",
            "Epoch 34/100\n",
            "92/92 - 0s - loss: 0.0025\n",
            "Epoch 35/100\n",
            "92/92 - 0s - loss: 0.0024\n",
            "Epoch 36/100\n",
            "92/92 - 0s - loss: 0.0022\n",
            "Epoch 37/100\n",
            "92/92 - 0s - loss: 0.0022\n",
            "Epoch 38/100\n",
            "92/92 - 0s - loss: 0.0021\n",
            "Epoch 39/100\n",
            "92/92 - 0s - loss: 0.0022\n",
            "Epoch 40/100\n",
            "92/92 - 0s - loss: 0.0021\n",
            "Epoch 41/100\n",
            "92/92 - 0s - loss: 0.0020\n",
            "Epoch 42/100\n",
            "92/92 - 0s - loss: 0.0021\n",
            "Epoch 43/100\n",
            "92/92 - 0s - loss: 0.0020\n",
            "Epoch 44/100\n",
            "92/92 - 0s - loss: 0.0019\n",
            "Epoch 45/100\n",
            "92/92 - 0s - loss: 0.0019\n",
            "Epoch 46/100\n",
            "92/92 - 0s - loss: 0.0020\n",
            "Epoch 47/100\n",
            "92/92 - 0s - loss: 0.0018\n",
            "Epoch 48/100\n",
            "92/92 - 0s - loss: 0.0018\n",
            "Epoch 49/100\n",
            "92/92 - 0s - loss: 0.0019\n",
            "Epoch 50/100\n",
            "92/92 - 0s - loss: 0.0018\n",
            "Epoch 51/100\n",
            "92/92 - 0s - loss: 0.0018\n",
            "Epoch 52/100\n",
            "92/92 - 0s - loss: 0.0018\n",
            "Epoch 53/100\n",
            "92/92 - 0s - loss: 0.0018\n",
            "Epoch 54/100\n",
            "92/92 - 0s - loss: 0.0019\n",
            "Epoch 55/100\n",
            "92/92 - 0s - loss: 0.0017\n",
            "Epoch 56/100\n",
            "92/92 - 0s - loss: 0.0018\n",
            "Epoch 57/100\n",
            "92/92 - 0s - loss: 0.0018\n",
            "Epoch 58/100\n",
            "92/92 - 0s - loss: 0.0018\n",
            "Epoch 59/100\n",
            "92/92 - 0s - loss: 0.0017\n",
            "Epoch 60/100\n",
            "92/92 - 0s - loss: 0.0018\n",
            "Epoch 61/100\n",
            "92/92 - 0s - loss: 0.0018\n",
            "Epoch 62/100\n",
            "92/92 - 0s - loss: 0.0018\n",
            "Epoch 63/100\n",
            "92/92 - 0s - loss: 0.0018\n",
            "Epoch 64/100\n",
            "92/92 - 0s - loss: 0.0017\n",
            "Epoch 65/100\n",
            "92/92 - 0s - loss: 0.0017\n",
            "Epoch 66/100\n",
            "92/92 - 0s - loss: 0.0018\n",
            "Epoch 67/100\n",
            "92/92 - 0s - loss: 0.0018\n",
            "Epoch 68/100\n",
            "92/92 - 0s - loss: 0.0017\n",
            "Epoch 69/100\n",
            "92/92 - 0s - loss: 0.0018\n",
            "Epoch 70/100\n",
            "92/92 - 0s - loss: 0.0017\n",
            "Epoch 71/100\n",
            "92/92 - 0s - loss: 0.0017\n",
            "Epoch 72/100\n",
            "92/92 - 0s - loss: 0.0017\n",
            "Epoch 73/100\n",
            "92/92 - 0s - loss: 0.0017\n",
            "Epoch 74/100\n",
            "92/92 - 0s - loss: 0.0017\n",
            "Epoch 75/100\n",
            "92/92 - 0s - loss: 0.0017\n",
            "Epoch 76/100\n",
            "92/92 - 0s - loss: 0.0017\n",
            "Epoch 77/100\n",
            "92/92 - 0s - loss: 0.0017\n",
            "Epoch 78/100\n",
            "92/92 - 0s - loss: 0.0017\n",
            "Epoch 79/100\n",
            "92/92 - 0s - loss: 0.0017\n",
            "Epoch 80/100\n",
            "92/92 - 0s - loss: 0.0017\n",
            "Epoch 81/100\n",
            "92/92 - 0s - loss: 0.0017\n",
            "Epoch 82/100\n",
            "92/92 - 0s - loss: 0.0017\n",
            "Epoch 83/100\n",
            "92/92 - 0s - loss: 0.0017\n",
            "Epoch 84/100\n",
            "92/92 - 0s - loss: 0.0017\n",
            "Epoch 85/100\n",
            "92/92 - 0s - loss: 0.0017\n",
            "Epoch 86/100\n",
            "92/92 - 0s - loss: 0.0016\n",
            "Epoch 87/100\n",
            "92/92 - 0s - loss: 0.0018\n",
            "Epoch 88/100\n",
            "92/92 - 0s - loss: 0.0017\n",
            "Epoch 89/100\n",
            "92/92 - 0s - loss: 0.0018\n",
            "Epoch 90/100\n",
            "92/92 - 0s - loss: 0.0017\n",
            "Epoch 91/100\n",
            "92/92 - 0s - loss: 0.0018\n",
            "Epoch 92/100\n",
            "92/92 - 0s - loss: 0.0017\n",
            "Epoch 93/100\n",
            "92/92 - 0s - loss: 0.0017\n",
            "Epoch 94/100\n",
            "92/92 - 0s - loss: 0.0017\n",
            "Epoch 95/100\n",
            "92/92 - 0s - loss: 0.0017\n",
            "Epoch 96/100\n",
            "92/92 - 0s - loss: 0.0017\n",
            "Epoch 97/100\n",
            "92/92 - 0s - loss: 0.0017\n",
            "Epoch 98/100\n",
            "92/92 - 0s - loss: 0.0017\n",
            "Epoch 99/100\n",
            "92/92 - 0s - loss: 0.0018\n",
            "Epoch 100/100\n",
            "92/92 - 0s - loss: 0.0017\n",
            "Train Score: 20.75 RMSE\n",
            "Test Score: 54.27 RMSE\n"
          ],
          "name": "stdout"
        },
        {
          "output_type": "display_data",
          "data": {
            "image/png": "[encoded data removed]",
            "text/plain": [
              "<Figure size 432x288 with 1 Axes>"
            ]
          },
          "metadata": {
            "tags": [],
            "needs_background": "light"
          }
        }
      ]
    },
    {
      "cell_type": "markdown",
      "metadata": {
        "id": "m4uGJ7CL-BkQ"
      },
      "source": [
        "# LSTM для регрессии с  Time Steps"
      ]
    },
    {
      "cell_type": "code",
      "metadata": {
        "id": "HwKlmkmn-Dw_"
      },
      "source": [
        "dataset = dataframe.values\n",
        "dataset = dataset.astype('float32')\n",
        "# normalize the dataset\n",
        "scaler = MinMaxScaler(feature_range=(0, 1))\n",
        "dataset = scaler.fit_transform(dataset)\n",
        "# split into train and test sets\n",
        "train_size = int(len(dataset) * 0.67)\n",
        "test_size = len(dataset) - train_size\n",
        "train, test = dataset[0:train_size,:], dataset[train_size:len(dataset),:]\n",
        "# reshape into X=t and Y=t+1\n",
        "look_back = 3\n",
        "trainX, trainY = create_dataset(train, look_back)\n",
        "testX, testY = create_dataset(test, look_back)\n",
        "# reshape input to be [samples, time steps, features]\n",
        "trainX = numpy.reshape(trainX, (trainX.shape[0], trainX.shape[1], 1))\n",
        "testX = numpy.reshape(testX, (testX.shape[0], testX.shape[1], 1))"
      ],
      "execution_count": null,
      "outputs": []
    },
    {
      "cell_type": "code",
      "metadata": {
        "colab": {
          "base_uri": "https://localhost:8080/"
        },
        "id": "z0T9cIIY-N8n",
        "outputId": "57469da0-ee9b-4da4-d01e-a9b21a289e39"
      },
      "source": [
        "print('Train X: \\n')\n",
        "print(trainX[:7])\n",
        "print('Train Y: \\n')\n",
        "print(trainY[:7])"
      ],
      "execution_count": null,
      "outputs": [
        {
          "output_type": "stream",
          "text": [
            "Train X: \n",
            "\n",
            "[[[0.01544401]\n",
            "  [0.02702703]\n",
            "  [0.05405405]]\n",
            "\n",
            " [[0.02702703]\n",
            "  [0.05405405]\n",
            "  [0.04826255]]\n",
            "\n",
            " [[0.05405405]\n",
            "  [0.04826255]\n",
            "  [0.03281853]]\n",
            "\n",
            " [[0.04826255]\n",
            "  [0.03281853]\n",
            "  [0.05984557]]\n",
            "\n",
            " [[0.03281853]\n",
            "  [0.05984557]\n",
            "  [0.08494207]]\n",
            "\n",
            " [[0.05984557]\n",
            "  [0.08494207]\n",
            "  [0.08494207]]\n",
            "\n",
            " [[0.08494207]\n",
            "  [0.08494207]\n",
            "  [0.06177607]]]\n",
            "Train Y: \n",
            "\n",
            "[0.04826255 0.03281853 0.05984557 0.08494207 0.08494207 0.06177607\n",
            " 0.02895753]\n"
          ],
          "name": "stdout"
        }
      ]
    },
    {
      "cell_type": "code",
      "metadata": {
        "colab": {
          "base_uri": "https://localhost:8080/"
        },
        "id": "82CyN93y-N8o",
        "outputId": "98d31160-2df0-4465-ffde-e0a7bcd99380"
      },
      "source": [
        "print(trainX.shape, trainY.shape)"
      ],
      "execution_count": null,
      "outputs": [
        {
          "output_type": "stream",
          "text": [
            "(92, 3, 1) (92,)\n"
          ],
          "name": "stdout"
        }
      ]
    },
    {
      "cell_type": "code",
      "metadata": {
        "colab": {
          "base_uri": "https://localhost:8080/"
        },
        "id": "N8ZACDRR-N8p",
        "outputId": "9d7d81c9-42bd-46ea-dba3-68f525790e70"
      },
      "source": [
        "print(testX.shape, testY.shape)"
      ],
      "execution_count": null,
      "outputs": [
        {
          "output_type": "stream",
          "text": [
            "(44, 3, 1) (44,)\n"
          ],
          "name": "stdout"
        }
      ]
    },
    {
      "cell_type": "code",
      "metadata": {
        "colab": {
          "base_uri": "https://localhost:8080/"
        },
        "id": "NgyBTd6m-Oy3",
        "outputId": "8f7c5756-7c80-47ed-90c7-64ae85284685"
      },
      "source": [
        "# create and fit the LSTM network\n",
        "model = Sequential()\n",
        "model.add(LSTM(4, input_shape=(look_back, 1)))\n",
        "model.add(Dense(1))\n",
        "model.compile(loss='mean_squared_error', optimizer='adam')\n",
        "model.fit(trainX, trainY, epochs=100, batch_size=1, verbose=2)\n",
        "# make predictions\n",
        "trainPredict = model.predict(trainX)\n",
        "testPredict = model.predict(testX)\n",
        "# invert predictions\n",
        "trainPredict = scaler.inverse_transform(trainPredict)\n",
        "trainY = scaler.inverse_transform([trainY])\n",
        "testPredict = scaler.inverse_transform(testPredict)\n",
        "testY = scaler.inverse_transform([testY])\n",
        "# calculate root mean squared error\n",
        "trainScore = math.sqrt(mean_squared_error(trainY[0], trainPredict[:,0]))\n",
        "print('Train Score: %.2f RMSE' % (trainScore))\n",
        "testScore = math.sqrt(mean_squared_error(testY[0], testPredict[:,0]))\n",
        "print('Test Score: %.2f RMSE' % (testScore))\n",
        "# shift train predictions for plotting\n",
        "trainPredictPlot = numpy.empty_like(dataset)\n",
        "trainPredictPlot[:, :] = numpy.nan\n",
        "trainPredictPlot[look_back:len(trainPredict)+look_back, :] = trainPredict\n",
        "# shift test predictions for plotting\n",
        "testPredictPlot = numpy.empty_like(dataset)\n",
        "testPredictPlot[:, :] = numpy.nan\n",
        "testPredictPlot[len(trainPredict)+(look_back*2)+1:len(dataset)-1, :] = testPredict"
      ],
      "execution_count": null,
      "outputs": [
        {
          "output_type": "stream",
          "text": [
            "Epoch 1/100\n",
            "92/92 - 1s - loss: 0.0814\n",
            "Epoch 2/100\n",
            "92/92 - 0s - loss: 0.0350\n",
            "Epoch 3/100\n",
            "92/92 - 0s - loss: 0.0253\n",
            "Epoch 4/100\n",
            "92/92 - 0s - loss: 0.0225\n",
            "Epoch 5/100\n",
            "92/92 - 0s - loss: 0.0201\n",
            "Epoch 6/100\n",
            "92/92 - 0s - loss: 0.0182\n",
            "Epoch 7/100\n",
            "92/92 - 0s - loss: 0.0164\n",
            "Epoch 8/100\n",
            "92/92 - 0s - loss: 0.0146\n",
            "Epoch 9/100\n",
            "92/92 - 0s - loss: 0.0130\n",
            "Epoch 10/100\n",
            "92/92 - 0s - loss: 0.0114\n",
            "Epoch 11/100\n",
            "92/92 - 0s - loss: 0.0097\n",
            "Epoch 12/100\n",
            "92/92 - 0s - loss: 0.0084\n",
            "Epoch 13/100\n",
            "92/92 - 0s - loss: 0.0072\n",
            "Epoch 14/100\n",
            "92/92 - 0s - loss: 0.0063\n",
            "Epoch 15/100\n",
            "92/92 - 0s - loss: 0.0055\n",
            "Epoch 16/100\n",
            "92/92 - 0s - loss: 0.0049\n",
            "Epoch 17/100\n",
            "92/92 - 0s - loss: 0.0046\n",
            "Epoch 18/100\n",
            "92/92 - 0s - loss: 0.0043\n",
            "Epoch 19/100\n",
            "92/92 - 0s - loss: 0.0043\n",
            "Epoch 20/100\n",
            "92/92 - 0s - loss: 0.0044\n",
            "Epoch 21/100\n",
            "92/92 - 0s - loss: 0.0045\n",
            "Epoch 22/100\n",
            "92/92 - 0s - loss: 0.0042\n",
            "Epoch 23/100\n",
            "92/92 - 0s - loss: 0.0042\n",
            "Epoch 24/100\n",
            "92/92 - 0s - loss: 0.0042\n",
            "Epoch 25/100\n",
            "92/92 - 0s - loss: 0.0041\n",
            "Epoch 26/100\n",
            "92/92 - 0s - loss: 0.0041\n",
            "Epoch 27/100\n",
            "92/92 - 0s - loss: 0.0041\n",
            "Epoch 28/100\n",
            "92/92 - 0s - loss: 0.0041\n",
            "Epoch 29/100\n",
            "92/92 - 0s - loss: 0.0041\n",
            "Epoch 30/100\n",
            "92/92 - 0s - loss: 0.0041\n",
            "Epoch 31/100\n",
            "92/92 - 0s - loss: 0.0039\n",
            "Epoch 32/100\n",
            "92/92 - 0s - loss: 0.0041\n",
            "Epoch 33/100\n",
            "92/92 - 0s - loss: 0.0040\n",
            "Epoch 34/100\n",
            "92/92 - 0s - loss: 0.0039\n",
            "Epoch 35/100\n",
            "92/92 - 0s - loss: 0.0042\n",
            "Epoch 36/100\n",
            "92/92 - 0s - loss: 0.0041\n",
            "Epoch 37/100\n",
            "92/92 - 0s - loss: 0.0039\n",
            "Epoch 38/100\n",
            "92/92 - 0s - loss: 0.0038\n",
            "Epoch 39/100\n",
            "92/92 - 0s - loss: 0.0039\n",
            "Epoch 40/100\n",
            "92/92 - 0s - loss: 0.0037\n",
            "Epoch 41/100\n",
            "92/92 - 0s - loss: 0.0040\n",
            "Epoch 42/100\n",
            "92/92 - 0s - loss: 0.0038\n",
            "Epoch 43/100\n",
            "92/92 - 0s - loss: 0.0039\n",
            "Epoch 44/100\n",
            "92/92 - 0s - loss: 0.0039\n",
            "Epoch 45/100\n",
            "92/92 - 0s - loss: 0.0038\n",
            "Epoch 46/100\n",
            "92/92 - 0s - loss: 0.0037\n",
            "Epoch 47/100\n",
            "92/92 - 0s - loss: 0.0038\n",
            "Epoch 48/100\n",
            "92/92 - 0s - loss: 0.0037\n",
            "Epoch 49/100\n",
            "92/92 - 0s - loss: 0.0037\n",
            "Epoch 50/100\n",
            "92/92 - 0s - loss: 0.0037\n",
            "Epoch 51/100\n",
            "92/92 - 0s - loss: 0.0037\n",
            "Epoch 52/100\n",
            "92/92 - 0s - loss: 0.0037\n",
            "Epoch 53/100\n",
            "92/92 - 0s - loss: 0.0037\n",
            "Epoch 54/100\n",
            "92/92 - 0s - loss: 0.0037\n",
            "Epoch 55/100\n",
            "92/92 - 0s - loss: 0.0037\n",
            "Epoch 56/100\n",
            "92/92 - 0s - loss: 0.0035\n",
            "Epoch 57/100\n",
            "92/92 - 0s - loss: 0.0035\n",
            "Epoch 58/100\n",
            "92/92 - 0s - loss: 0.0035\n",
            "Epoch 59/100\n",
            "92/92 - 0s - loss: 0.0035\n",
            "Epoch 60/100\n",
            "92/92 - 0s - loss: 0.0035\n",
            "Epoch 61/100\n",
            "92/92 - 0s - loss: 0.0035\n",
            "Epoch 62/100\n",
            "92/92 - 0s - loss: 0.0034\n",
            "Epoch 63/100\n",
            "92/92 - 0s - loss: 0.0035\n",
            "Epoch 64/100\n",
            "92/92 - 0s - loss: 0.0034\n",
            "Epoch 65/100\n",
            "92/92 - 0s - loss: 0.0036\n",
            "Epoch 66/100\n",
            "92/92 - 0s - loss: 0.0036\n",
            "Epoch 67/100\n",
            "92/92 - 0s - loss: 0.0034\n",
            "Epoch 68/100\n",
            "92/92 - 0s - loss: 0.0034\n",
            "Epoch 69/100\n",
            "92/92 - 0s - loss: 0.0033\n",
            "Epoch 70/100\n",
            "92/92 - 0s - loss: 0.0034\n",
            "Epoch 71/100\n",
            "92/92 - 0s - loss: 0.0032\n",
            "Epoch 72/100\n",
            "92/92 - 0s - loss: 0.0033\n",
            "Epoch 73/100\n",
            "92/92 - 0s - loss: 0.0032\n",
            "Epoch 74/100\n",
            "92/92 - 0s - loss: 0.0032\n",
            "Epoch 75/100\n",
            "92/92 - 0s - loss: 0.0033\n",
            "Epoch 76/100\n",
            "92/92 - 0s - loss: 0.0031\n",
            "Epoch 77/100\n",
            "92/92 - 0s - loss: 0.0032\n",
            "Epoch 78/100\n",
            "92/92 - 0s - loss: 0.0030\n",
            "Epoch 79/100\n",
            "92/92 - 0s - loss: 0.0030\n",
            "Epoch 80/100\n",
            "92/92 - 0s - loss: 0.0031\n",
            "Epoch 81/100\n",
            "92/92 - 0s - loss: 0.0029\n",
            "Epoch 82/100\n",
            "92/92 - 0s - loss: 0.0029\n",
            "Epoch 83/100\n",
            "92/92 - 0s - loss: 0.0029\n",
            "Epoch 84/100\n",
            "92/92 - 0s - loss: 0.0030\n",
            "Epoch 85/100\n",
            "92/92 - 0s - loss: 0.0028\n",
            "Epoch 86/100\n",
            "92/92 - 0s - loss: 0.0027\n",
            "Epoch 87/100\n",
            "92/92 - 0s - loss: 0.0027\n",
            "Epoch 88/100\n",
            "92/92 - 0s - loss: 0.0027\n",
            "Epoch 89/100\n",
            "92/92 - 0s - loss: 0.0027\n",
            "Epoch 90/100\n",
            "92/92 - 0s - loss: 0.0026\n",
            "Epoch 91/100\n",
            "92/92 - 0s - loss: 0.0026\n",
            "Epoch 92/100\n",
            "92/92 - 0s - loss: 0.0026\n",
            "Epoch 93/100\n",
            "92/92 - 0s - loss: 0.0026\n",
            "Epoch 94/100\n",
            "92/92 - 0s - loss: 0.0026\n",
            "Epoch 95/100\n",
            "92/92 - 0s - loss: 0.0025\n",
            "Epoch 96/100\n",
            "92/92 - 0s - loss: 0.0025\n",
            "Epoch 97/100\n",
            "92/92 - 0s - loss: 0.0024\n",
            "Epoch 98/100\n",
            "92/92 - 0s - loss: 0.0023\n",
            "Epoch 99/100\n",
            "92/92 - 0s - loss: 0.0024\n",
            "Epoch 100/100\n",
            "92/92 - 0s - loss: 0.0023\n",
            "Train Score: 24.25 RMSE\n",
            "Test Score: 59.34 RMSE\n"
          ],
          "name": "stdout"
        }
      ]
    },
    {
      "cell_type": "code",
      "metadata": {
        "colab": {
          "base_uri": "https://localhost:8080/",
          "height": 320
        },
        "id": "cOyZMJoz-bGO",
        "outputId": "a87fe813-eefc-4ed5-c4b8-22d075c2d83e"
      },
      "source": [
        "# plot baseline and predictions\n",
        "plt.figure(figsize = (10,5))\n",
        "plt.plot(scaler.inverse_transform(dataset), label = 'Full original data')\n",
        "plt.plot(trainPredictPlot, label = 'Train')\n",
        "plt.plot(testPredictPlot, label = 'Test')\n",
        "plt.legend()\n",
        "plt.show()"
      ],
      "execution_count": null,
      "outputs": [
        {
          "output_type": "display_data",
          "data": {
            "image/png": "[encoded data removed]",
            "text/plain": [
              "<Figure size 720x360 with 1 Axes>"
            ]
          },
          "metadata": {
            "tags": [],
            "needs_background": "light"
          }
        }
      ]
    },
    {
      "cell_type": "markdown",
      "metadata": {
        "id": "GjFu0OYfCB8C"
      },
      "source": [
        "- Tensorflow для начинающих: \n",
        "https://www.tensorflow.org/tutorials/quickstart/beginner\n",
        "\n",
        "- Tutorial по работе с временными данными в Tensorflow:\n",
        "https://www.tensorflow.org/tutorials/structured_data/time_series"
      ]
    },
    {
      "cell_type": "code",
      "metadata": {
        "id": "iH2NDybX-h9F"
      },
      "source": [
        ""
      ],
      "execution_count": null,
      "outputs": []
    }
  ]
}
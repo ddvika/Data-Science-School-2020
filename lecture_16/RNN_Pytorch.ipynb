{
  "nbformat": 4,
  "nbformat_minor": 0,
  "metadata": {
    "colab": {
      "name": "RNN_Pytorch.ipynb",
      "provenance": [],
      "collapsed_sections": []
    },
    "kernelspec": {
      "name": "python3",
      "display_name": "Python 3"
    }
  },
  "cells": [
    {
      "cell_type": "markdown",
      "metadata": {
        "id": "Cifm2kuM2P9c"
      },
      "source": [
        "Ноутбук с анализом временного ряда с использованием библиотеки Pytorch"
      ]
    },
    {
      "cell_type": "code",
      "metadata": {
        "id": "o_9gLbAUbdkZ"
      },
      "source": [
        "%matplotlib inline\n",
        "import torch as t\n",
        "import torch.nn as nn\n",
        "import torch.nn.functional as F\n",
        "import torch.optim as optim\n",
        "from torch.optim.lr_scheduler import LambdaLR\n",
        "from torch.utils.data import DataLoader\n",
        "import numpy as np\n",
        "import matplotlib\n",
        "import matplotlib.pyplot as plt\n",
        "import seaborn as sns\n",
        "from sklearn.metrics import mean_absolute_error\n",
        "import matplotlib.image  as mpimg\n",
        "import matplotlib.pyplot as plt\n",
        "\n",
        "import pdb"
      ],
      "execution_count": null,
      "outputs": []
    },
    {
      "cell_type": "code",
      "metadata": {
        "id": "LmBdllNzbhob"
      },
      "source": [
        "import numpy as np\n",
        "from sklearn.metrics import mean_absolute_error\n",
        "import pdb"
      ],
      "execution_count": null,
      "outputs": []
    },
    {
      "cell_type": "code",
      "metadata": {
        "id": "6dez5X9abm1W"
      },
      "source": [
        "import matplotlib\n",
        "import matplotlib.image  as mpimg\n",
        "import matplotlib.pyplot as plt\n"
      ],
      "execution_count": null,
      "outputs": []
    },
    {
      "cell_type": "code",
      "metadata": {
        "id": "EpPPaeOtbom8"
      },
      "source": [
        "import seaborn as sns"
      ],
      "execution_count": null,
      "outputs": []
    },
    {
      "cell_type": "code",
      "metadata": {
        "id": "hHNCrCCNbqF8"
      },
      "source": [
        "# Functions of creating synthetic time series\n",
        "def plot_series(time, series, format=\"-\", start=0, end=None):\n",
        "    plt.plot(time[start:end], series[start:end], format)\n",
        "    plt.xlabel(\"Time\")\n",
        "    plt.ylabel(\"Value\")\n",
        "    plt.grid(True)\n",
        "\n",
        "\n",
        "def trend(time, slope=0):\n",
        "    return slope * time\n",
        "\n",
        "\n",
        "def seasonal_pattern(season_time):\n",
        "    \"\"\"Just an arbitrary pattern, you can change it if you wish\"\"\"\n",
        "    return np.where(season_time < 0.4,\n",
        "                    np.cos(season_time * 2 * np.pi),\n",
        "                    1 / np.exp(3 * season_time))\n",
        "\n",
        "\n",
        "def seasonality(time, period, amplitude=1, phase=0):\n",
        "    \"\"\"Repeats the same pattern at each period\"\"\"\n",
        "    season_time = ((time + phase) % period) / period\n",
        "    return amplitude * seasonal_pattern(season_time)\n",
        "\n",
        "\n",
        "def noise(time, noise_level=1, seed=None):\n",
        "    rnd = np.random.RandomState(seed)\n",
        "    return rnd.randn(len(time)) * noise_level"
      ],
      "execution_count": null,
      "outputs": []
    },
    {
      "cell_type": "code",
      "metadata": {
        "id": "cekobFF6bs1O"
      },
      "source": [
        "# Functions of creating feature and label\n",
        "def t_window(x, size, shift=None, stride=1):\n",
        "    try:\n",
        "        nd = len(size)\n",
        "    except TypeError:\n",
        "        size = tuple(size for i in x.shape)\n",
        "        nd = len(size)\n",
        "    if nd != x.ndimension():\n",
        "        raise ValueError(\"size has length {0} instead of \"\n",
        "                         \"x.ndim which is {1}\".format(len(size),\n",
        "                                                      x.ndimension()))\n",
        "    out_shape = tuple(xi-wi+1 for xi, wi in zip(x.shape, size)) + size\n",
        "    if not all(i > 0 for i in out_shape):\n",
        "        raise ValueError(\"size is bigger than input array along at \"\n",
        "                         \"least one dimension\")\n",
        "    out_strides = x.stride() * 2\n",
        "    return t.as_strided(x, out_shape, out_strides)\n",
        "\n",
        "\n",
        "def t_apply(func, M):\n",
        "    res = [func(m) for m in t.unbind(M, dim=0)]\n",
        "    return res\n",
        "\n",
        "\n",
        "def windowed_dataset(series, window_size, batch_size, shuffle_buffer):\n",
        "    '''\n",
        "    series [t.tensor]: dataset\n",
        "    '''\n",
        "    if(isinstance(series, np.ndarray)):\n",
        "        dataset = t.from_numpy(series)\n",
        "    dataset = t_window(dataset, window_size + 1, shift=1)\n",
        "    dataset = t_apply(lambda window: (window[:-1], window[-1:]), dataset)\n",
        "    dataset = DataLoader(dataset, shuffle=True, batch_size=batch_size)\n",
        "    return dataset"
      ],
      "execution_count": null,
      "outputs": []
    },
    {
      "cell_type": "code",
      "metadata": {
        "id": "0dIP_LFAb2Nz"
      },
      "source": [
        "# Design structure of deep neural network model\n",
        "# Ref: https://pytorch.org/docs/stable/nn.html#torch.nn.Sequential\n",
        "class Net(nn.Module):\n",
        "\n",
        "    def __init__(self, hidden_size):\n",
        "        super(Net, self).__init__()\n",
        "        self.num_layers = 2\n",
        "        self.hidden_size = hidden_size\n",
        "        self.bidir = True\n",
        "        self.num_dir = 2 if self.bidir else 1\n",
        "        self.biLSTM = nn.LSTM(input_size=1, hidden_size=self.hidden_size,\n",
        "                              num_layers=self.num_layers, batch_first=True,\n",
        "                              bidirectional=self.bidir)\n",
        "        # In PyTorch, RNN doesn't have ``return_sequences```\n",
        "        # Ref: https://pytorch.org/docs/stable/_modules/torch/nn/modules/rnn.html#RNN\n",
        "        # layer_input_size = input_size if layer == 0 else hidden_size * num_directions\n",
        "        # num_layers: Number of recurrent layers. E.g., setting ``num_layers=2`` \n",
        "        # would mean stacking two RNNs together to form a `stacked RNN`, \n",
        "        # with the second RNN taking in outputs of the first RNN and computing the final results.\n",
        "        # Note: **output** of shape `(seq_len, batch, num_directions * hidden_size)`\n",
        "        self.Dense = nn.Linear(self.hidden_size * self.num_dir, 1)\n",
        "\n",
        "    def forward(self, x):\n",
        "        # Ref: https://blog.floydhub.com/a-beginners-guide-on-recurrent-neural-networks-with-pytorch/\n",
        "        batch_size = x.size(0)\n",
        "        x = t.unsqueeze(x, 2)\n",
        "        h0c0 = self.init_hidden(batch_size)\n",
        "        output, hidden = self.biLSTM(x, h0c0)\n",
        "        output = self.Dense(output[:, -1, :])  # only take last one of output\n",
        "        result = output * 100.0\n",
        "        return result\n",
        "\n",
        "    def init_hidden(self, batch_size):\n",
        "        hidden = t.zeros(self.num_layers * self.num_dir, batch_size,\n",
        "                         self.hidden_size)\n",
        "        cell = t.zeros(self.num_layers * self.num_dir, batch_size,\n",
        "                       self.hidden_size)\n",
        "        return (hidden, cell)"
      ],
      "execution_count": null,
      "outputs": []
    },
    {
      "cell_type": "code",
      "metadata": {
        "id": "0BMgj7B9b7ZI"
      },
      "source": [
        "class Net4(nn.Module):\n",
        "\n",
        "    def __init__(self, hidden_size):\n",
        "        super(Net4, self).__init__()\n",
        "        self.num_layers = 3\n",
        "        self.hidden_size = hidden_size\n",
        "        self.bidir = True\n",
        "        self.num_dir = 2 if self.bidir else 1\n",
        "        self.biLSTM = nn.LSTM(input_size=1, hidden_size=self.hidden_size,\n",
        "                              num_layers=self.num_layers, batch_first=True,\n",
        "                              bidirectional=self.bidir)\n",
        "        # In PyTorch, RNN doesn't have ``return_sequences```\n",
        "        # Ref: https://pytorch.org/docs/stable/_modules/torch/nn/modules/rnn.html#RNN\n",
        "        # layer_input_size = input_size if layer == 0 else hidden_size * num_directions\n",
        "        # num_layers: Number of recurrent layers. E.g., setting ``num_layers=2`` would mean stacking two RNNs together to form a `stacked RNN`, with the second RNN taking in outputs of the first RNN and computing the final results.\n",
        "        # Note: **output** of shape `(seq_len, batch, num_directions * hidden_size)`\n",
        "        self.Dense = nn.Linear(self.hidden_size * self.num_dir, 1)\n",
        "\n",
        "    def forward(self, x):\n",
        "        # Ref: https://blog.floydhub.com/a-beginners-guide-on-recurrent-neural-networks-with-pytorch/\n",
        "        batch_size = x.size(0)\n",
        "        x = t.unsqueeze(x, 2)\n",
        "        h0c0 = self.init_hidden(batch_size)\n",
        "        output, hidden = self.biLSTM(x, h0c0)\n",
        "        output = self.Dense(output[:, -1, :])  # only take last one of output\n",
        "        result = output * 100.0\n",
        "        return result\n",
        "\n",
        "    def init_hidden(self, batch_size):\n",
        "        hidden = t.zeros(self.num_layers * self.num_dir, batch_size,\n",
        "                         self.hidden_size)\n",
        "        cell = t.zeros(self.num_layers * self.num_dir, batch_size,\n",
        "                       self.hidden_size)\n",
        "        return (hidden, cell)"
      ],
      "execution_count": null,
      "outputs": []
    },
    {
      "cell_type": "code",
      "metadata": {
        "id": "UNIEqfypb-WS"
      },
      "source": [
        "class History():\n",
        "    \"\"\"\n",
        "    The `History` object gets returned by the `fit` method of models.\n",
        "    \"\"\"\n",
        "\n",
        "    def __init__(self, metric_name):\n",
        "        self.history = {'loss': [], metric_name: []}\n",
        "\n",
        "    def append_log(self, log_key, log_value):\n",
        "        self.history[log_key].append(log_value)"
      ],
      "execution_count": null,
      "outputs": []
    },
    {
      "cell_type": "code",
      "metadata": {
        "id": "FhZpicTWcAS9"
      },
      "source": [
        "# Define metric and learning algorithms.\n",
        "# As well as train(fit) and predict.\n",
        "class Sequential():\n",
        "\n",
        "    def __init__(self, model):\n",
        "        self.model = model\n",
        "        self.metric = None\n",
        "        self.optimizer = None\n",
        "        self.loss = None\n",
        "\n",
        "    def t_compile(self, loss, metric, optimizer):\n",
        "        self.loss = loss\n",
        "        self.optimizer = optimizer\n",
        "        self.metric = metric\n",
        "\n",
        "    def t_fit(self, dataset, epochs, callbacks=[], verbose=0):\n",
        "        history = History('{0}'.format(self.metric.__name__))\n",
        "        if(callbacks != []):\n",
        "            scheduler = LambdaLR(self.optimizer, lr_lambda=callbacks)\n",
        "        for epoch in range(epochs):\n",
        "            running_loss = 0.0\n",
        "            Outputs_epoch = []\n",
        "            Labels_epoch = []\n",
        "            for i, data in enumerate(dataset, 0):\n",
        "                inputs, labels = data\n",
        "                self.optimizer.zero_grad()\n",
        "                outputs = self.model(inputs)\n",
        "                Loss = self.loss(outputs, labels)\n",
        "                Loss.backward()\n",
        "                self.optimizer.step()\n",
        "                running_loss += Loss.item()\n",
        "                Outputs_epoch.append(outputs)\n",
        "                Labels_epoch.append(labels)\n",
        "            if(callbacks != []):\n",
        "                scheduler.step()\n",
        "            print('epoch: ', epoch, '. Loss: ', running_loss / i)\n",
        "            history.append_log('loss', running_loss / i)\n",
        "            history.append_log(self.metric.__name__,\n",
        "                               self.metric(t.cat(Labels_epoch).detach().numpy(),\n",
        "                                           t.cat(Outputs_epoch).detach().numpy()))\n",
        "        print('Finished Training')\n",
        "        return history\n",
        "\n",
        "    def t_predict(self, dataset):\n",
        "        return self.model(dataset)"
      ],
      "execution_count": null,
      "outputs": []
    },
    {
      "cell_type": "code",
      "metadata": {
        "id": "pFy2UMZ3cDNL"
      },
      "source": [
        "# Plot results\n",
        "def openfig(Figsize=(10, 6)):\n",
        "    plt.figure(figsize=Figsize)\n",
        "\n",
        "\n",
        "def savefig(filename):\n",
        "    plt.savefig('{0}_{1}.png'.format(prefix_name, filename))\n",
        "    plt.clf()"
      ],
      "execution_count": null,
      "outputs": []
    },
    {
      "cell_type": "code",
      "metadata": {
        "id": "PzZfK36RcG3e"
      },
      "source": [
        "t.manual_seed(1729)\n",
        "np.random.seed(1729)\n",
        "matplotlib.use('Agg')\n",
        "sns.set()\n",
        "plt.switch_backend('agg')\n",
        "prefix_name = 'SPW3L4'"
      ],
      "execution_count": null,
      "outputs": []
    },
    {
      "cell_type": "code",
      "metadata": {
        "id": "aJhrOrvScMO5"
      },
      "source": [
        "# Config of creating time series\n",
        "time = np.arange(4 * 365 + 1, dtype=\"float32\")\n",
        "baseline = 10\n",
        "series = trend(time, 0.1)\n",
        "baseline = 10\n",
        "amplitude = 40\n",
        "slope = 0.05\n",
        "noise_level = 5"
      ],
      "execution_count": null,
      "outputs": []
    },
    {
      "cell_type": "code",
      "metadata": {
        "id": "Xjmii83CcVF6"
      },
      "source": [
        "# Create the series\n",
        "series = baseline + trend(time, slope) +\\\n",
        "    seasonality(time, period=365, amplitude=amplitude)\n",
        "# Update with noise\n",
        "series += noise(time, noise_level, seed=42)"
      ],
      "execution_count": null,
      "outputs": []
    },
    {
      "cell_type": "code",
      "metadata": {
        "id": "AyduBl0IcX6b"
      },
      "source": [
        "# Train and validate split\n",
        "split_time = 1000\n",
        "time_train = time[:split_time]\n",
        "x_train = series[:split_time]\n",
        "time_valid = time[split_time:]\n",
        "x_valid = series[split_time:]"
      ],
      "execution_count": null,
      "outputs": []
    },
    {
      "cell_type": "code",
      "metadata": {
        "colab": {
          "base_uri": "https://localhost:8080/",
          "height": 322
        },
        "id": "koVyhsSNDMoh",
        "outputId": "271b0e87-8ae7-415a-fd0a-7ba83c43d627"
      },
      "source": [
        "%matplotlib inline\n",
        "plt.figure(figsize = (10,5))\n",
        "plt.plot(time_train, x_train, label = 'train')\n",
        "plt.plot(time_valid, x_valid, label = 'test')\n",
        "plt.legend()\n",
        "plt.show()"
      ],
      "execution_count": null,
      "outputs": [
        {
          "output_type": "display_data",
          "data": {
            "image/png": "[encoded data removed]",
            "text/plain": [
              "<Figure size 720x360 with 1 Axes>"
            ]
          },
          "metadata": {
            "tags": [],
            "needs_background": "light"
          }
        }
      ]
    },
    {
      "cell_type": "code",
      "metadata": {
        "id": "fE1_1xPYcbQv"
      },
      "source": [
        "# Config of creating feature and label\n",
        "window_size = 20\n",
        "batch_size = 32\n",
        "shuffle_buffer_size = 1000"
      ],
      "execution_count": null,
      "outputs": []
    },
    {
      "cell_type": "code",
      "metadata": {
        "id": "0XLfMxNZcdVM"
      },
      "source": [
        "# Experiment 1\n",
        "t.manual_seed(1729)\n",
        "np.random.seed(1729)\n",
        "\n",
        "dataset = windowed_dataset(x_train, window_size, batch_size,\n",
        "                           shuffle_buffer_size)"
      ],
      "execution_count": null,
      "outputs": []
    },
    {
      "cell_type": "code",
      "metadata": {
        "id": "BkXPUCAmdMCQ"
      },
      "source": [
        "# Model build\n",
        "model = Sequential(Net(hidden_size=32))"
      ],
      "execution_count": null,
      "outputs": []
    },
    {
      "cell_type": "code",
      "metadata": {
        "id": "Rxjn1BZpcgJh"
      },
      "source": [
        "lr_schedule = [lambda epoch: 10.0 ** (epoch / 20)]\n",
        "optimizer = optim.SGD(model.model.parameters(), lr=1e-8, momentum=0.9)\n",
        "model.t_compile(loss=nn.SmoothL1Loss(), optimizer=optimizer, metric=mean_absolute_error)"
      ],
      "execution_count": null,
      "outputs": []
    },
    {
      "cell_type": "code",
      "metadata": {
        "id": "9mYMLvtpdWWA",
        "colab": {
          "base_uri": "https://localhost:8080/"
        },
        "outputId": "4a3a165d-bcdc-4c89-a9e9-b4bed2b5c062"
      },
      "source": [
        "# Model train\n",
        "history = model.t_fit(dataset, epochs=100, callbacks=lr_schedule)"
      ],
      "execution_count": null,
      "outputs": [
        {
          "output_type": "stream",
          "text": [
            "epoch:  0 . Loss:  55.72263768513997\n",
            "epoch:  1 . Loss:  55.58859354654948\n",
            "epoch:  2 . Loss:  55.481635920206706\n",
            "epoch:  3 . Loss:  55.35466639200846\n",
            "epoch:  4 . Loss:  55.151238377888994\n",
            "epoch:  5 . Loss:  54.98123664855957\n",
            "epoch:  6 . Loss:  54.67445920308431\n",
            "epoch:  7 . Loss:  54.60053278605143\n",
            "epoch:  8 . Loss:  54.211924362182614\n",
            "epoch:  9 . Loss:  53.95680732727051\n",
            "epoch:  10 . Loss:  53.53630599975586\n",
            "epoch:  11 . Loss:  53.2366221110026\n",
            "epoch:  12 . Loss:  52.83974011739095\n",
            "epoch:  13 . Loss:  52.37975222269694\n",
            "epoch:  14 . Loss:  51.84223670959473\n",
            "epoch:  15 . Loss:  51.21086146036784\n",
            "epoch:  16 . Loss:  50.58721237182617\n",
            "epoch:  17 . Loss:  49.73725255330404\n",
            "epoch:  18 . Loss:  48.77049662272135\n",
            "epoch:  19 . Loss:  47.85884920756022\n",
            "epoch:  20 . Loss:  46.831579971313474\n",
            "epoch:  21 . Loss:  45.61778475443522\n",
            "epoch:  22 . Loss:  44.203848393758136\n",
            "epoch:  23 . Loss:  42.67379951477051\n",
            "epoch:  24 . Loss:  40.79339917500814\n",
            "epoch:  25 . Loss:  39.018154335021975\n",
            "epoch:  26 . Loss:  36.82684669494629\n",
            "epoch:  27 . Loss:  34.3969846089681\n",
            "epoch:  28 . Loss:  31.77682819366455\n",
            "epoch:  29 . Loss:  28.770355796813966\n",
            "epoch:  30 . Loss:  25.353317515055338\n",
            "epoch:  31 . Loss:  21.89228515625\n",
            "epoch:  32 . Loss:  18.250263436635336\n",
            "epoch:  33 . Loss:  15.315528106689452\n",
            "epoch:  34 . Loss:  13.581293201446533\n",
            "epoch:  35 . Loss:  12.485196240743\n",
            "epoch:  36 . Loss:  11.915480184555054\n",
            "epoch:  37 . Loss:  11.496366659800211\n",
            "epoch:  38 . Loss:  11.225562159220377\n",
            "epoch:  39 . Loss:  11.093991041183472\n",
            "epoch:  40 . Loss:  10.884321308135986\n",
            "epoch:  41 . Loss:  10.644286266962688\n",
            "epoch:  42 . Loss:  10.408885288238526\n",
            "epoch:  43 . Loss:  10.113382196426391\n",
            "epoch:  44 . Loss:  9.787592442830404\n",
            "epoch:  45 . Loss:  9.316783428192139\n",
            "epoch:  46 . Loss:  8.76262453397115\n",
            "epoch:  47 . Loss:  8.284107478459676\n",
            "epoch:  48 . Loss:  7.789617331822713\n",
            "epoch:  49 . Loss:  7.240938433011373\n",
            "epoch:  50 . Loss:  6.661697864532471\n",
            "epoch:  51 . Loss:  6.219288301467896\n",
            "epoch:  52 . Loss:  5.821062318483988\n",
            "epoch:  53 . Loss:  5.788920243581136\n",
            "epoch:  54 . Loss:  5.441011722882589\n",
            "epoch:  55 . Loss:  5.404185422261556\n",
            "epoch:  56 . Loss:  5.312414296468099\n",
            "epoch:  57 . Loss:  5.2684317906697595\n",
            "epoch:  58 . Loss:  5.061404593785604\n",
            "epoch:  59 . Loss:  5.039869165420532\n",
            "epoch:  60 . Loss:  5.228249470392863\n",
            "epoch:  61 . Loss:  4.991411264737447\n",
            "epoch:  62 . Loss:  5.545071585973104\n",
            "epoch:  63 . Loss:  5.16401158173879\n",
            "epoch:  64 . Loss:  5.037888145446777\n",
            "epoch:  65 . Loss:  5.009124286969503\n",
            "epoch:  66 . Loss:  5.007569281260173\n",
            "epoch:  67 . Loss:  4.97843595345815\n",
            "epoch:  68 . Loss:  4.8219180504481\n",
            "epoch:  69 . Loss:  4.873667605717977\n",
            "epoch:  70 . Loss:  4.950843922297159\n",
            "epoch:  71 . Loss:  4.876729814211528\n",
            "epoch:  72 . Loss:  6.026991017659506\n",
            "epoch:  73 . Loss:  5.726047317186992\n",
            "epoch:  74 . Loss:  5.2897864818573\n",
            "epoch:  75 . Loss:  5.059004441897074\n",
            "epoch:  76 . Loss:  5.205656782786051\n",
            "epoch:  77 . Loss:  5.203355995814006\n",
            "epoch:  78 . Loss:  5.473988898595175\n",
            "epoch:  79 . Loss:  6.372012098630269\n",
            "epoch:  80 . Loss:  5.792120265960693\n",
            "epoch:  81 . Loss:  5.817245674133301\n",
            "epoch:  82 . Loss:  7.144241635004679\n",
            "epoch:  83 . Loss:  5.355830732981364\n",
            "epoch:  84 . Loss:  6.251451810201009\n",
            "epoch:  85 . Loss:  5.743188389142355\n",
            "epoch:  86 . Loss:  5.849909702936809\n",
            "epoch:  87 . Loss:  7.324590094884237\n",
            "epoch:  88 . Loss:  6.797026499112447\n",
            "epoch:  89 . Loss:  6.7213644027709964\n",
            "epoch:  90 . Loss:  6.891592041651408\n",
            "epoch:  91 . Loss:  8.640609057744344\n",
            "epoch:  92 . Loss:  9.473898204167684\n",
            "epoch:  93 . Loss:  6.986513725916544\n",
            "epoch:  94 . Loss:  8.187047831217448\n",
            "epoch:  95 . Loss:  7.282683833440145\n",
            "epoch:  96 . Loss:  8.421966282526652\n",
            "epoch:  97 . Loss:  8.669863573710124\n",
            "epoch:  98 . Loss:  6.892670766512553\n",
            "epoch:  99 . Loss:  8.06274995803833\n",
            "Finished Training\n"
          ],
          "name": "stdout"
        }
      ]
    },
    {
      "cell_type": "code",
      "metadata": {
        "id": "mnpGcoiUc_dc",
        "colab": {
          "base_uri": "https://localhost:8080/",
          "height": 404
        },
        "outputId": "20676964-8cd5-4c16-f5fa-e5e701d23163"
      },
      "source": [
        "# Plot\n",
        "lrs = 1e-8 * (10 ** (np.arange(100) / 20))\n",
        "openfig()\n",
        "plt.semilogx(lrs, history.history['loss'])\n",
        "plt.axis([1e-8, 1e-4, 0, 30])"
      ],
      "execution_count": null,
      "outputs": [
        {
          "output_type": "execute_result",
          "data": {
            "text/plain": [
              "(1e-08, 0.0001, 0.0, 30.0)"
            ]
          },
          "metadata": {
            "tags": []
          },
          "execution_count": 33
        },
        {
          "output_type": "display_data",
          "data": {
            "image/png": "[encoded data removed]",
            "text/plain": [
              "<Figure size 720x432 with 1 Axes>"
            ]
          },
          "metadata": {
            "tags": [],
            "needs_background": "light"
          }
        }
      ]
    },
    {
      "cell_type": "code",
      "metadata": {
        "id": "BVWvpzJQdPIJ",
        "colab": {
          "base_uri": "https://localhost:8080/",
          "height": 34
        },
        "outputId": "7a932f11-cb09-4b52-81b1-37a7d49d34a3"
      },
      "source": [
        "savefig('1_exp1_resultsLoss_learningRates')"
      ],
      "execution_count": null,
      "outputs": [
        {
          "output_type": "display_data",
          "data": {
            "text/plain": [
              "<Figure size 432x288 with 0 Axes>"
            ]
          },
          "metadata": {
            "tags": []
          }
        }
      ]
    },
    {
      "cell_type": "code",
      "metadata": {
        "id": "FYgMnz0wdv99",
        "colab": {
          "base_uri": "https://localhost:8080/"
        },
        "outputId": "4767931c-f4be-4de0-fb07-fdb677c3f1ef"
      },
      "source": [
        "print(lrs[np.argmin(history.history['loss'])])"
      ],
      "execution_count": null,
      "outputs": [
        {
          "output_type": "stream",
          "text": [
            "2.5118864315095798e-05\n"
          ],
          "name": "stdout"
        }
      ]
    },
    {
      "cell_type": "code",
      "metadata": {
        "id": "2V2A_G1edz8z"
      },
      "source": [
        "# Experiment 2\n",
        "t.manual_seed(1729)\n",
        "np.random.seed(1729)\n",
        "\n",
        "dataset2 = windowed_dataset(x_train, window_size, batch_size,\n",
        "                            shuffle_buffer_size)\n"
      ],
      "execution_count": null,
      "outputs": []
    },
    {
      "cell_type": "code",
      "metadata": {
        "id": "iwuSoW3nd6zn",
        "colab": {
          "base_uri": "https://localhost:8080/"
        },
        "outputId": "52597724-79d0-499d-e4c5-4c8d772aed25"
      },
      "source": [
        "model2 = Sequential(Net(hidden_size=32))\n",
        "optimizer2 = optim.SGD(model2.model.parameters(), lr=1e-5, momentum=0.9)\n",
        "model2.t_compile(loss=nn.MSELoss(), optimizer=optimizer2, metric=mean_absolute_error)\n",
        "history2 = model2.t_fit(dataset2, epochs=500)"
      ],
      "execution_count": null,
      "outputs": [
        {
          "output_type": "stream",
          "text": [
            "epoch:  0 . Loss:  661.504726155599\n",
            "epoch:  1 . Loss:  170.4477263132731\n",
            "epoch:  2 . Loss:  114.51972020467123\n",
            "epoch:  3 . Loss:  77.1486005783081\n",
            "epoch:  4 . Loss:  97.9122538248698\n",
            "epoch:  5 . Loss:  85.23934415181478\n",
            "epoch:  6 . Loss:  61.299845631917314\n",
            "epoch:  7 . Loss:  83.20129661560058\n",
            "epoch:  8 . Loss:  73.88497098286946\n",
            "epoch:  9 . Loss:  79.90628077189128\n",
            "epoch:  10 . Loss:  61.738166936238606\n",
            "epoch:  11 . Loss:  55.4403605779012\n",
            "epoch:  12 . Loss:  99.64789708455403\n",
            "epoch:  13 . Loss:  82.03592274983724\n",
            "epoch:  14 . Loss:  63.347829755147295\n",
            "epoch:  15 . Loss:  54.866164207458496\n",
            "epoch:  16 . Loss:  53.83442370096842\n",
            "epoch:  17 . Loss:  59.8336576461792\n",
            "epoch:  18 . Loss:  67.96655286153158\n",
            "epoch:  19 . Loss:  56.07516231536865\n",
            "epoch:  20 . Loss:  58.26323267618815\n",
            "epoch:  21 . Loss:  64.00917536417643\n",
            "epoch:  22 . Loss:  60.57964903513591\n",
            "epoch:  23 . Loss:  52.84049676259359\n",
            "epoch:  24 . Loss:  58.88991165161133\n",
            "epoch:  25 . Loss:  53.97534008026123\n",
            "epoch:  26 . Loss:  57.537163162231444\n",
            "epoch:  27 . Loss:  58.835919825236004\n",
            "epoch:  28 . Loss:  57.34962895711263\n",
            "epoch:  29 . Loss:  53.288686752319336\n",
            "epoch:  30 . Loss:  60.232797622680664\n",
            "epoch:  31 . Loss:  68.54810339609782\n",
            "epoch:  32 . Loss:  56.529805946350095\n",
            "epoch:  33 . Loss:  59.6160343170166\n",
            "epoch:  34 . Loss:  61.16756591796875\n",
            "epoch:  35 . Loss:  51.894047546386716\n",
            "epoch:  36 . Loss:  86.75671215057373\n",
            "epoch:  37 . Loss:  68.12007312774658\n",
            "epoch:  38 . Loss:  53.416510009765624\n",
            "epoch:  39 . Loss:  66.819464747111\n",
            "epoch:  40 . Loss:  68.74456386566162\n",
            "epoch:  41 . Loss:  74.18247146606446\n",
            "epoch:  42 . Loss:  56.96716130574544\n",
            "epoch:  43 . Loss:  57.393561299641924\n",
            "epoch:  44 . Loss:  58.5728125890096\n",
            "epoch:  45 . Loss:  53.138006655375165\n",
            "epoch:  46 . Loss:  54.29559637705485\n",
            "epoch:  47 . Loss:  54.75585905710856\n",
            "epoch:  48 . Loss:  90.33190561930338\n",
            "epoch:  49 . Loss:  61.97045040130615\n",
            "epoch:  50 . Loss:  52.597998237609865\n",
            "epoch:  51 . Loss:  54.51754480997722\n",
            "epoch:  52 . Loss:  51.2262300491333\n",
            "epoch:  53 . Loss:  55.49301420847575\n",
            "epoch:  54 . Loss:  61.81595261891683\n",
            "epoch:  55 . Loss:  51.897866566975914\n",
            "epoch:  56 . Loss:  53.739755630493164\n",
            "epoch:  57 . Loss:  52.39507637023926\n",
            "epoch:  58 . Loss:  65.0753407796224\n",
            "epoch:  59 . Loss:  54.21918144226074\n",
            "epoch:  60 . Loss:  52.42786763509115\n",
            "epoch:  61 . Loss:  55.44459285736084\n",
            "epoch:  62 . Loss:  55.116803359985354\n",
            "epoch:  63 . Loss:  54.009330940246585\n",
            "epoch:  64 . Loss:  48.951517995198564\n",
            "epoch:  65 . Loss:  55.59871940612793\n",
            "epoch:  66 . Loss:  50.06800727844238\n",
            "epoch:  67 . Loss:  51.14695072174072\n",
            "epoch:  68 . Loss:  56.000653966267905\n",
            "epoch:  69 . Loss:  49.981753222147624\n",
            "epoch:  70 . Loss:  50.65238094329834\n",
            "epoch:  71 . Loss:  53.43106187184652\n",
            "epoch:  72 . Loss:  49.08104820251465\n",
            "epoch:  73 . Loss:  57.42091013590495\n",
            "epoch:  74 . Loss:  54.29214572906494\n",
            "epoch:  75 . Loss:  60.99941266377767\n",
            "epoch:  76 . Loss:  55.13862476348877\n",
            "epoch:  77 . Loss:  54.99652881622315\n",
            "epoch:  78 . Loss:  61.9546558380127\n",
            "epoch:  79 . Loss:  63.58500073750814\n",
            "epoch:  80 . Loss:  49.6205363591512\n",
            "epoch:  81 . Loss:  53.08705781300863\n",
            "epoch:  82 . Loss:  65.33694299062093\n",
            "epoch:  83 . Loss:  56.78940931955973\n",
            "epoch:  84 . Loss:  57.600280316670734\n",
            "epoch:  85 . Loss:  63.343017133076984\n",
            "epoch:  86 . Loss:  49.392150751749675\n",
            "epoch:  87 . Loss:  51.923082160949704\n",
            "epoch:  88 . Loss:  55.13939634958903\n",
            "epoch:  89 . Loss:  56.61117966969808\n",
            "epoch:  90 . Loss:  60.462425295511885\n",
            "epoch:  91 . Loss:  57.09093869527181\n",
            "epoch:  92 . Loss:  50.17601801554362\n",
            "epoch:  93 . Loss:  51.98319880167643\n",
            "epoch:  94 . Loss:  55.63769823710124\n",
            "epoch:  95 . Loss:  64.29272867838542\n",
            "epoch:  96 . Loss:  49.710062408447264\n",
            "epoch:  97 . Loss:  45.85623270670573\n",
            "epoch:  98 . Loss:  46.37742067972819\n",
            "epoch:  99 . Loss:  66.5735262552897\n",
            "epoch:  100 . Loss:  51.343054326375324\n",
            "epoch:  101 . Loss:  47.633928807576496\n",
            "epoch:  102 . Loss:  48.092316182454425\n",
            "epoch:  103 . Loss:  52.126155090332034\n",
            "epoch:  104 . Loss:  45.06835753122966\n",
            "epoch:  105 . Loss:  70.57159792582193\n",
            "epoch:  106 . Loss:  53.29525254567464\n",
            "epoch:  107 . Loss:  50.23720169067383\n",
            "epoch:  108 . Loss:  56.586124102274574\n",
            "epoch:  109 . Loss:  49.77368335723877\n",
            "epoch:  110 . Loss:  47.792898686726886\n",
            "epoch:  111 . Loss:  47.56101271311442\n",
            "epoch:  112 . Loss:  47.44448401133219\n",
            "epoch:  113 . Loss:  49.720104153951006\n",
            "epoch:  114 . Loss:  46.84219786326091\n",
            "epoch:  115 . Loss:  53.610894203186035\n",
            "epoch:  116 . Loss:  48.54545733133952\n",
            "epoch:  117 . Loss:  58.0700745900472\n",
            "epoch:  118 . Loss:  57.51859194437663\n",
            "epoch:  119 . Loss:  49.628056081136066\n",
            "epoch:  120 . Loss:  49.278890228271486\n",
            "epoch:  121 . Loss:  54.78675168355306\n",
            "epoch:  122 . Loss:  58.34948215484619\n",
            "epoch:  123 . Loss:  51.875564384460446\n",
            "epoch:  124 . Loss:  47.484406280517575\n",
            "epoch:  125 . Loss:  53.21903737386068\n",
            "epoch:  126 . Loss:  56.55283648173015\n",
            "epoch:  127 . Loss:  52.86641184488932\n",
            "epoch:  128 . Loss:  52.45304946899414\n",
            "epoch:  129 . Loss:  47.1267183303833\n",
            "epoch:  130 . Loss:  47.544665273030596\n",
            "epoch:  131 . Loss:  50.308614031473795\n",
            "epoch:  132 . Loss:  55.80365613301595\n",
            "epoch:  133 . Loss:  49.37040723164876\n",
            "epoch:  134 . Loss:  53.687144406636556\n",
            "epoch:  135 . Loss:  46.05368677775065\n",
            "epoch:  136 . Loss:  47.61425526936849\n",
            "epoch:  137 . Loss:  51.055239295959474\n",
            "epoch:  138 . Loss:  50.094861094156904\n",
            "epoch:  139 . Loss:  48.95426247914632\n",
            "epoch:  140 . Loss:  47.15344429016113\n",
            "epoch:  141 . Loss:  54.689208539326984\n",
            "epoch:  142 . Loss:  52.790598742167155\n",
            "epoch:  143 . Loss:  50.30584150950114\n",
            "epoch:  144 . Loss:  53.162682660420735\n",
            "epoch:  145 . Loss:  50.63343874613444\n",
            "epoch:  146 . Loss:  44.09294077555339\n",
            "epoch:  147 . Loss:  46.028293482462566\n",
            "epoch:  148 . Loss:  47.41736666361491\n",
            "epoch:  149 . Loss:  46.90762837727865\n",
            "epoch:  150 . Loss:  45.19574966430664\n",
            "epoch:  151 . Loss:  53.91018352508545\n",
            "epoch:  152 . Loss:  47.69564221700033\n",
            "epoch:  153 . Loss:  52.04885768890381\n",
            "epoch:  154 . Loss:  46.0404717763265\n",
            "epoch:  155 . Loss:  48.840861066182455\n",
            "epoch:  156 . Loss:  51.49105796813965\n",
            "epoch:  157 . Loss:  45.939012908935545\n",
            "epoch:  158 . Loss:  47.09920024871826\n",
            "epoch:  159 . Loss:  46.55939591725667\n",
            "epoch:  160 . Loss:  43.74447797139486\n",
            "epoch:  161 . Loss:  46.934540303548175\n",
            "epoch:  162 . Loss:  53.347319730122884\n",
            "epoch:  163 . Loss:  52.32373892466227\n",
            "epoch:  164 . Loss:  46.85664577484131\n",
            "epoch:  165 . Loss:  49.41230786641439\n",
            "epoch:  166 . Loss:  55.807440757751465\n",
            "epoch:  167 . Loss:  47.733334414164226\n",
            "epoch:  168 . Loss:  53.28980382283529\n",
            "epoch:  169 . Loss:  54.05716749827067\n",
            "epoch:  170 . Loss:  44.82650826772054\n",
            "epoch:  171 . Loss:  45.14826596577962\n",
            "epoch:  172 . Loss:  45.04275309244792\n",
            "epoch:  173 . Loss:  51.96024386088053\n",
            "epoch:  174 . Loss:  51.4112366994222\n",
            "epoch:  175 . Loss:  52.958013725280765\n",
            "epoch:  176 . Loss:  46.90476926167806\n",
            "epoch:  177 . Loss:  49.63485469818115\n",
            "epoch:  178 . Loss:  45.89481519063314\n",
            "epoch:  179 . Loss:  49.907736206054686\n",
            "epoch:  180 . Loss:  47.07640736897786\n",
            "epoch:  181 . Loss:  49.07761529286702\n",
            "epoch:  182 . Loss:  46.89525082906087\n",
            "epoch:  183 . Loss:  48.26371142069499\n",
            "epoch:  184 . Loss:  52.32572873433431\n",
            "epoch:  185 . Loss:  58.34582131703694\n",
            "epoch:  186 . Loss:  47.639845275878905\n",
            "epoch:  187 . Loss:  45.14405892690023\n",
            "epoch:  188 . Loss:  44.89031829833984\n",
            "epoch:  189 . Loss:  46.7373898824056\n",
            "epoch:  190 . Loss:  47.61143118540446\n",
            "epoch:  191 . Loss:  47.9715056737264\n",
            "epoch:  192 . Loss:  47.45142084757487\n",
            "epoch:  193 . Loss:  45.212435976664224\n",
            "epoch:  194 . Loss:  46.916989135742185\n",
            "epoch:  195 . Loss:  49.96544233957926\n",
            "epoch:  196 . Loss:  43.406174119313555\n",
            "epoch:  197 . Loss:  49.949093119303384\n",
            "epoch:  198 . Loss:  50.12528603871663\n",
            "epoch:  199 . Loss:  47.616224924723305\n",
            "epoch:  200 . Loss:  49.01470762888591\n",
            "epoch:  201 . Loss:  46.6378890991211\n",
            "epoch:  202 . Loss:  46.895331891377765\n",
            "epoch:  203 . Loss:  50.052068901062015\n",
            "epoch:  204 . Loss:  49.19393323262533\n",
            "epoch:  205 . Loss:  47.700916862487794\n",
            "epoch:  206 . Loss:  50.551398340861006\n",
            "epoch:  207 . Loss:  49.679284540812176\n",
            "epoch:  208 . Loss:  46.604644012451175\n",
            "epoch:  209 . Loss:  46.382915051778156\n",
            "epoch:  210 . Loss:  48.05240020751953\n",
            "epoch:  211 . Loss:  45.51880677541097\n",
            "epoch:  212 . Loss:  45.207987467447914\n",
            "epoch:  213 . Loss:  55.992891502380374\n",
            "epoch:  214 . Loss:  58.43514684041341\n",
            "epoch:  215 . Loss:  43.66108754475911\n",
            "epoch:  216 . Loss:  43.22882652282715\n",
            "epoch:  217 . Loss:  50.30508778889974\n",
            "epoch:  218 . Loss:  55.86316089630127\n",
            "epoch:  219 . Loss:  64.87706432342529\n",
            "epoch:  220 . Loss:  49.21763381958008\n",
            "epoch:  221 . Loss:  45.794875653584796\n",
            "epoch:  222 . Loss:  46.64959920247396\n",
            "epoch:  223 . Loss:  48.02110748291015\n",
            "epoch:  224 . Loss:  44.244346364339194\n",
            "epoch:  225 . Loss:  43.84265931447347\n",
            "epoch:  226 . Loss:  43.291529687245685\n",
            "epoch:  227 . Loss:  45.53254795074463\n",
            "epoch:  228 . Loss:  43.541205342610674\n",
            "epoch:  229 . Loss:  42.00718250274658\n",
            "epoch:  230 . Loss:  42.83204015096029\n",
            "epoch:  231 . Loss:  52.82688655853271\n",
            "epoch:  232 . Loss:  49.26293741861979\n",
            "epoch:  233 . Loss:  42.09499600728353\n",
            "epoch:  234 . Loss:  44.52602945963542\n",
            "epoch:  235 . Loss:  42.71056982676188\n",
            "epoch:  236 . Loss:  44.05921179453532\n",
            "epoch:  237 . Loss:  44.93002595901489\n",
            "epoch:  238 . Loss:  42.50103365580241\n",
            "epoch:  239 . Loss:  47.08549842834473\n",
            "epoch:  240 . Loss:  44.313601366678874\n",
            "epoch:  241 . Loss:  50.37380708058675\n",
            "epoch:  242 . Loss:  49.275363794962566\n",
            "epoch:  243 . Loss:  43.367315928141274\n",
            "epoch:  244 . Loss:  48.729512468973795\n",
            "epoch:  245 . Loss:  47.95044549306234\n",
            "epoch:  246 . Loss:  42.957813326517744\n",
            "epoch:  247 . Loss:  47.06421737670898\n",
            "epoch:  248 . Loss:  44.25035769144694\n",
            "epoch:  249 . Loss:  47.723541831970216\n",
            "epoch:  250 . Loss:  53.823597017923994\n",
            "epoch:  251 . Loss:  47.34497858683268\n",
            "epoch:  252 . Loss:  49.84731864929199\n",
            "epoch:  253 . Loss:  48.930315017700195\n",
            "epoch:  254 . Loss:  42.72015228271484\n",
            "epoch:  255 . Loss:  42.24066378275553\n",
            "epoch:  256 . Loss:  43.27058658599854\n",
            "epoch:  257 . Loss:  46.73698800404866\n",
            "epoch:  258 . Loss:  41.87179050445557\n",
            "epoch:  259 . Loss:  42.231650288899736\n",
            "epoch:  260 . Loss:  45.19668693542481\n",
            "epoch:  261 . Loss:  43.132336934407554\n",
            "epoch:  262 . Loss:  45.53133379618327\n",
            "epoch:  263 . Loss:  47.14026648203532\n",
            "epoch:  264 . Loss:  43.6708875020345\n",
            "epoch:  265 . Loss:  45.43998489379883\n",
            "epoch:  266 . Loss:  46.236372248331705\n",
            "epoch:  267 . Loss:  42.1988639831543\n",
            "epoch:  268 . Loss:  43.95925407409668\n",
            "epoch:  269 . Loss:  43.97471097310384\n",
            "epoch:  270 . Loss:  45.4062578201294\n",
            "epoch:  271 . Loss:  49.335263888041176\n",
            "epoch:  272 . Loss:  51.08146979014079\n",
            "epoch:  273 . Loss:  52.250302124023435\n",
            "epoch:  274 . Loss:  44.71195227305095\n",
            "epoch:  275 . Loss:  43.94883505503336\n",
            "epoch:  276 . Loss:  43.488305981953935\n",
            "epoch:  277 . Loss:  43.19424012502034\n",
            "epoch:  278 . Loss:  44.77816003163655\n",
            "epoch:  279 . Loss:  49.701722081502275\n",
            "epoch:  280 . Loss:  42.87455412546794\n",
            "epoch:  281 . Loss:  43.68753217061361\n",
            "epoch:  282 . Loss:  43.38387947082519\n",
            "epoch:  283 . Loss:  45.331885782877606\n",
            "epoch:  284 . Loss:  45.10434970855713\n",
            "epoch:  285 . Loss:  47.98898480733236\n",
            "epoch:  286 . Loss:  44.64856402079264\n",
            "epoch:  287 . Loss:  44.4227705637614\n",
            "epoch:  288 . Loss:  44.00253365834554\n",
            "epoch:  289 . Loss:  44.39304745992025\n",
            "epoch:  290 . Loss:  43.31276251475016\n",
            "epoch:  291 . Loss:  43.392401631673174\n",
            "epoch:  292 . Loss:  41.86099052429199\n",
            "epoch:  293 . Loss:  48.0528834660848\n",
            "epoch:  294 . Loss:  47.97190678914388\n",
            "epoch:  295 . Loss:  40.961361440022785\n",
            "epoch:  296 . Loss:  45.14624621073405\n",
            "epoch:  297 . Loss:  44.23584569295247\n",
            "epoch:  298 . Loss:  44.619568824768066\n",
            "epoch:  299 . Loss:  55.90843995412191\n",
            "epoch:  300 . Loss:  44.813819885253906\n",
            "epoch:  301 . Loss:  46.722724723815915\n",
            "epoch:  302 . Loss:  45.918442471822104\n",
            "epoch:  303 . Loss:  41.41831951141357\n",
            "epoch:  304 . Loss:  44.0849515914917\n",
            "epoch:  305 . Loss:  43.38283418019613\n",
            "epoch:  306 . Loss:  48.35369656880697\n",
            "epoch:  307 . Loss:  46.46374435424805\n",
            "epoch:  308 . Loss:  42.35185038248698\n",
            "epoch:  309 . Loss:  45.2786537806193\n",
            "epoch:  310 . Loss:  42.36524022420247\n",
            "epoch:  311 . Loss:  43.433089637756346\n",
            "epoch:  312 . Loss:  46.35093765258789\n",
            "epoch:  313 . Loss:  53.71072533925374\n",
            "epoch:  314 . Loss:  47.616505495707194\n",
            "epoch:  315 . Loss:  43.436717923482256\n",
            "epoch:  316 . Loss:  45.818159166971846\n",
            "epoch:  317 . Loss:  50.25319538116455\n",
            "epoch:  318 . Loss:  52.6993013381958\n",
            "epoch:  319 . Loss:  42.19085324605306\n",
            "epoch:  320 . Loss:  46.597980944315594\n",
            "epoch:  321 . Loss:  42.76483923594157\n",
            "epoch:  322 . Loss:  45.13500372568766\n",
            "epoch:  323 . Loss:  40.56877333323161\n",
            "epoch:  324 . Loss:  42.21889095306396\n",
            "epoch:  325 . Loss:  50.17719033559163\n",
            "epoch:  326 . Loss:  46.03137645721436\n",
            "epoch:  327 . Loss:  41.299907493591306\n",
            "epoch:  328 . Loss:  42.02572905222575\n",
            "epoch:  329 . Loss:  41.484602737426755\n",
            "epoch:  330 . Loss:  45.411065038045244\n",
            "epoch:  331 . Loss:  41.06676899592082\n",
            "epoch:  332 . Loss:  45.77097702026367\n",
            "epoch:  333 . Loss:  47.344234720865884\n",
            "epoch:  334 . Loss:  40.07889779408773\n",
            "epoch:  335 . Loss:  40.179012616475426\n",
            "epoch:  336 . Loss:  44.1556121190389\n",
            "epoch:  337 . Loss:  42.53511912027995\n",
            "epoch:  338 . Loss:  42.15134105682373\n",
            "epoch:  339 . Loss:  43.975759506225586\n",
            "epoch:  340 . Loss:  42.37902228037516\n",
            "epoch:  341 . Loss:  40.36358896891276\n",
            "epoch:  342 . Loss:  40.67862428029378\n",
            "epoch:  343 . Loss:  56.135138829549156\n",
            "epoch:  344 . Loss:  45.28723729451497\n",
            "epoch:  345 . Loss:  40.87719020843506\n",
            "epoch:  346 . Loss:  42.58440984090169\n",
            "epoch:  347 . Loss:  40.75456873575846\n",
            "epoch:  348 . Loss:  39.88585186004639\n",
            "epoch:  349 . Loss:  42.59215087890625\n",
            "epoch:  350 . Loss:  41.3450133005778\n",
            "epoch:  351 . Loss:  42.89213256835937\n",
            "epoch:  352 . Loss:  41.52175502777099\n",
            "epoch:  353 . Loss:  41.920511627197264\n",
            "epoch:  354 . Loss:  40.88823318481445\n",
            "epoch:  355 . Loss:  43.65691744486491\n",
            "epoch:  356 . Loss:  43.388305282592775\n",
            "epoch:  357 . Loss:  42.705406252543135\n",
            "epoch:  358 . Loss:  45.232451629638675\n",
            "epoch:  359 . Loss:  45.720549710591634\n",
            "epoch:  360 . Loss:  46.29877249399821\n",
            "epoch:  361 . Loss:  41.618326822916664\n",
            "epoch:  362 . Loss:  42.302211888631184\n",
            "epoch:  363 . Loss:  40.57345155080159\n",
            "epoch:  364 . Loss:  42.64555190404256\n",
            "epoch:  365 . Loss:  38.82640240987142\n",
            "epoch:  366 . Loss:  43.62493457794189\n",
            "epoch:  367 . Loss:  48.16439552307129\n",
            "epoch:  368 . Loss:  49.47694104512532\n",
            "epoch:  369 . Loss:  43.97058912913005\n",
            "epoch:  370 . Loss:  41.39892234802246\n",
            "epoch:  371 . Loss:  41.212166976928714\n",
            "epoch:  372 . Loss:  40.488187344868976\n",
            "epoch:  373 . Loss:  43.30663808186849\n",
            "epoch:  374 . Loss:  39.3755145072937\n",
            "epoch:  375 . Loss:  41.65100485483806\n",
            "epoch:  376 . Loss:  42.37517458597819\n",
            "epoch:  377 . Loss:  40.68938652674357\n",
            "epoch:  378 . Loss:  42.35627784729004\n",
            "epoch:  379 . Loss:  47.06100966135661\n",
            "epoch:  380 . Loss:  43.47422459920247\n",
            "epoch:  381 . Loss:  52.41145992279053\n",
            "epoch:  382 . Loss:  47.74991194407145\n",
            "epoch:  383 . Loss:  42.88138624827067\n",
            "epoch:  384 . Loss:  44.35917746225993\n",
            "epoch:  385 . Loss:  48.215856615702315\n",
            "epoch:  386 . Loss:  40.83169377644857\n",
            "epoch:  387 . Loss:  40.19387702941894\n",
            "epoch:  388 . Loss:  44.80029322306315\n",
            "epoch:  389 . Loss:  39.54677619934082\n",
            "epoch:  390 . Loss:  41.362928199768064\n",
            "epoch:  391 . Loss:  43.338540395100914\n",
            "epoch:  392 . Loss:  42.704155095418294\n",
            "epoch:  393 . Loss:  41.34357821146647\n",
            "epoch:  394 . Loss:  42.124994087219235\n",
            "epoch:  395 . Loss:  40.354710006713866\n",
            "epoch:  396 . Loss:  46.23559233347575\n",
            "epoch:  397 . Loss:  42.699344062805174\n",
            "epoch:  398 . Loss:  42.126677703857425\n",
            "epoch:  399 . Loss:  42.23984508514404\n",
            "epoch:  400 . Loss:  40.022267977396645\n",
            "epoch:  401 . Loss:  44.003133138020836\n",
            "epoch:  402 . Loss:  40.53774038950602\n",
            "epoch:  403 . Loss:  47.30847727457682\n",
            "epoch:  404 . Loss:  43.0684539159139\n",
            "epoch:  405 . Loss:  47.76800397237142\n",
            "epoch:  406 . Loss:  41.624596468607585\n",
            "epoch:  407 . Loss:  40.127289136250816\n",
            "epoch:  408 . Loss:  39.5922929763794\n",
            "epoch:  409 . Loss:  46.86675160725911\n",
            "epoch:  410 . Loss:  41.064218521118164\n",
            "epoch:  411 . Loss:  43.025452105204266\n",
            "epoch:  412 . Loss:  39.89616870880127\n",
            "epoch:  413 . Loss:  40.7041135152181\n",
            "epoch:  414 . Loss:  41.046895027160645\n",
            "epoch:  415 . Loss:  39.18879750569661\n",
            "epoch:  416 . Loss:  41.051254717508954\n",
            "epoch:  417 . Loss:  37.979460843404134\n",
            "epoch:  418 . Loss:  39.82898530960083\n",
            "epoch:  419 . Loss:  42.15115769704183\n",
            "epoch:  420 . Loss:  42.411750666300456\n",
            "epoch:  421 . Loss:  42.00697612762451\n",
            "epoch:  422 . Loss:  44.68628114064534\n",
            "epoch:  423 . Loss:  50.58813680013021\n",
            "epoch:  424 . Loss:  49.44463087717692\n",
            "epoch:  425 . Loss:  46.840420150756835\n",
            "epoch:  426 . Loss:  39.30385837554932\n",
            "epoch:  427 . Loss:  41.38958276112874\n",
            "epoch:  428 . Loss:  43.19889558156331\n",
            "epoch:  429 . Loss:  40.76885229746501\n",
            "epoch:  430 . Loss:  38.44227924346924\n",
            "epoch:  431 . Loss:  41.339307912190755\n",
            "epoch:  432 . Loss:  41.30743618011475\n",
            "epoch:  433 . Loss:  42.97910289764404\n",
            "epoch:  434 . Loss:  42.224928601582846\n",
            "epoch:  435 . Loss:  40.037685044606526\n",
            "epoch:  436 . Loss:  41.08810176849365\n",
            "epoch:  437 . Loss:  39.19443626403809\n",
            "epoch:  438 . Loss:  42.96727212270101\n",
            "epoch:  439 . Loss:  43.24080969492594\n",
            "epoch:  440 . Loss:  40.96461633046468\n",
            "epoch:  441 . Loss:  39.14938907623291\n",
            "epoch:  442 . Loss:  41.059529558817545\n",
            "epoch:  443 . Loss:  40.49887472788493\n",
            "epoch:  444 . Loss:  42.40443353652954\n",
            "epoch:  445 . Loss:  37.20434039433797\n",
            "epoch:  446 . Loss:  40.23350785573324\n",
            "epoch:  447 . Loss:  38.85347633361816\n",
            "epoch:  448 . Loss:  53.483418973286945\n",
            "epoch:  449 . Loss:  41.60433762868245\n",
            "epoch:  450 . Loss:  42.38000329335531\n",
            "epoch:  451 . Loss:  45.198625310262045\n",
            "epoch:  452 . Loss:  46.208152516682944\n",
            "epoch:  453 . Loss:  44.181562678019205\n",
            "epoch:  454 . Loss:  39.30775470733643\n",
            "epoch:  455 . Loss:  41.91234143575033\n",
            "epoch:  456 . Loss:  43.26311022440593\n",
            "epoch:  457 . Loss:  43.196472803751625\n",
            "epoch:  458 . Loss:  41.044866752624515\n",
            "epoch:  459 . Loss:  39.635202471415205\n",
            "epoch:  460 . Loss:  41.72091941833496\n",
            "epoch:  461 . Loss:  42.77982063293457\n",
            "epoch:  462 . Loss:  44.96374899546306\n",
            "epoch:  463 . Loss:  46.68498655954997\n",
            "epoch:  464 . Loss:  44.49272244771321\n",
            "epoch:  465 . Loss:  41.888651084899905\n",
            "epoch:  466 . Loss:  39.53963572184245\n",
            "epoch:  467 . Loss:  46.241471481323245\n",
            "epoch:  468 . Loss:  38.46825129191081\n",
            "epoch:  469 . Loss:  40.15892817179362\n",
            "epoch:  470 . Loss:  39.480159823099775\n",
            "epoch:  471 . Loss:  41.55235201517741\n",
            "epoch:  472 . Loss:  42.25664488474528\n",
            "epoch:  473 . Loss:  38.78479824066162\n",
            "epoch:  474 . Loss:  41.98440062204997\n",
            "epoch:  475 . Loss:  39.64352327982585\n",
            "epoch:  476 . Loss:  38.68530400594076\n",
            "epoch:  477 . Loss:  36.96848697662354\n",
            "epoch:  478 . Loss:  37.7466259320577\n",
            "epoch:  479 . Loss:  38.83071670532227\n",
            "epoch:  480 . Loss:  41.16526749928792\n",
            "epoch:  481 . Loss:  40.062888622283936\n",
            "epoch:  482 . Loss:  42.25558020273844\n",
            "epoch:  483 . Loss:  38.4505900700887\n",
            "epoch:  484 . Loss:  39.85708999633789\n",
            "epoch:  485 . Loss:  39.331912930806475\n",
            "epoch:  486 . Loss:  42.238211441040036\n",
            "epoch:  487 . Loss:  39.253797658284505\n",
            "epoch:  488 . Loss:  45.878112093607584\n",
            "epoch:  489 . Loss:  41.00576553344727\n",
            "epoch:  490 . Loss:  43.870306396484374\n",
            "epoch:  491 . Loss:  39.8331595102946\n",
            "epoch:  492 . Loss:  42.39103816350301\n",
            "epoch:  493 . Loss:  38.71972204844157\n",
            "epoch:  494 . Loss:  37.74432430267334\n",
            "epoch:  495 . Loss:  41.03802013397217\n",
            "epoch:  496 . Loss:  43.77592798868815\n",
            "epoch:  497 . Loss:  40.49557456970215\n",
            "epoch:  498 . Loss:  47.16123383839925\n",
            "epoch:  499 . Loss:  45.350937589009604\n",
            "Finished Training\n"
          ],
          "name": "stdout"
        }
      ]
    },
    {
      "cell_type": "code",
      "metadata": {
        "id": "Q41K4UN1d9Tz"
      },
      "source": [
        "forecast2 = []\n",
        "for time in range(len(series) - window_size):\n",
        "    forecast_feature2 = series[time:time + window_size][np.newaxis]\n",
        "    forecast2.append(model2.t_predict(t.from_numpy(forecast_feature2)))\n",
        "\n",
        "forecast2 = forecast2[split_time-window_size:]\n",
        "results2 = t.cat(forecast2).detach().numpy()[:, 0]"
      ],
      "execution_count": null,
      "outputs": []
    },
    {
      "cell_type": "code",
      "metadata": {
        "id": "c1gXaey8eAyW",
        "colab": {
          "base_uri": "https://localhost:8080/",
          "height": 394
        },
        "outputId": "4285472e-05a4-49a2-d7f0-8587b8b868c7"
      },
      "source": [
        "openfig()\n",
        "plot_series(time_valid, x_valid)\n",
        "plot_series(time_valid, results2)"
      ],
      "execution_count": null,
      "outputs": [
        {
          "output_type": "display_data",
          "data": {
            "image/png": "[encoded data removed]",
            "text/plain": [
              "<Figure size 720x432 with 1 Axes>"
            ]
          },
          "metadata": {
            "tags": [],
            "needs_background": "light"
          }
        }
      ]
    },
    {
      "cell_type": "code",
      "metadata": {
        "id": "ccz_Dk4TeC3-",
        "colab": {
          "base_uri": "https://localhost:8080/",
          "height": 34
        },
        "outputId": "4aed4e0c-6f99-416e-bca0-b8c5639063e9"
      },
      "source": [
        "savefig('2_exp2_forecast')"
      ],
      "execution_count": null,
      "outputs": [
        {
          "output_type": "display_data",
          "data": {
            "text/plain": [
              "<Figure size 432x288 with 0 Axes>"
            ]
          },
          "metadata": {
            "tags": []
          }
        }
      ]
    },
    {
      "cell_type": "code",
      "metadata": {
        "id": "cio1-O9ueE2-",
        "colab": {
          "base_uri": "https://localhost:8080/"
        },
        "outputId": "c00f4b3e-1783-43be-d94c-d805b0e4cd27"
      },
      "source": [
        "print(mean_absolute_error(x_valid, results2))"
      ],
      "execution_count": null,
      "outputs": [
        {
          "output_type": "stream",
          "text": [
            "9.576943\n"
          ],
          "name": "stdout"
        }
      ]
    },
    {
      "cell_type": "code",
      "metadata": {
        "id": "MqJxTyrpeH3Y"
      },
      "source": [
        "# Retrieve a list of list results on training and test data\n",
        "# sets for each training epoch\n",
        "\n",
        "mae2 = history2.history['mean_absolute_error']\n",
        "loss2 = history2.history['loss']\n",
        "\n",
        "epochs2 = range(len(loss2))  # Get number of epochs"
      ],
      "execution_count": null,
      "outputs": []
    },
    {
      "cell_type": "code",
      "metadata": {
        "id": "3-XGq1r1eJo2",
        "colab": {
          "base_uri": "https://localhost:8080/",
          "height": 427
        },
        "outputId": "adb31934-fef7-43c7-c33e-4ff75388618f"
      },
      "source": [
        "# Plot MAE and Loss\n",
        "openfig()\n",
        "plt.plot(epochs2, mae2, 'r')\n",
        "plt.plot(epochs2, loss2, 'b')\n",
        "plt.title('MAE and Loss')\n",
        "plt.xlabel(\"Epochs\")\n",
        "plt.ylabel(\"Accuracy\")\n",
        "plt.legend([\"MAE\", \"Loss\"])"
      ],
      "execution_count": null,
      "outputs": [
        {
          "output_type": "execute_result",
          "data": {
            "text/plain": [
              "<matplotlib.legend.Legend at 0x7f3403db5b38>"
            ]
          },
          "metadata": {
            "tags": []
          },
          "execution_count": 43
        },
        {
          "output_type": "display_data",
          "data": {
            "image/png": "[encoded data removed]",
            "text/plain": [
              "<Figure size 720x432 with 1 Axes>"
            ]
          },
          "metadata": {
            "tags": [],
            "needs_background": "light"
          }
        }
      ]
    },
    {
      "cell_type": "code",
      "metadata": {
        "id": "y6zllsareMpI",
        "colab": {
          "base_uri": "https://localhost:8080/",
          "height": 34
        },
        "outputId": "ac6ebbef-537b-4bfb-a6a3-c6a9b0fd141e"
      },
      "source": [
        "savefig('3_exp2_retrieve_training_mae_loss')"
      ],
      "execution_count": null,
      "outputs": [
        {
          "output_type": "display_data",
          "data": {
            "text/plain": [
              "<Figure size 432x288 with 0 Axes>"
            ]
          },
          "metadata": {
            "tags": []
          }
        }
      ]
    },
    {
      "cell_type": "code",
      "metadata": {
        "id": "Vet01-jIeOOs",
        "colab": {
          "base_uri": "https://localhost:8080/",
          "height": 427
        },
        "outputId": "7ddc6854-5413-43cc-f8a7-d678d969b827"
      },
      "source": [
        "# Plot Zoomed MAE and Loss\n",
        "epochs2_zoom = epochs2[200:]\n",
        "mae2_zoom = mae2[200:]\n",
        "loss2_zoom = loss2[200:]\n",
        "openfig()\n",
        "plt.plot(epochs2_zoom, mae2_zoom, 'r')\n",
        "plt.plot(epochs2_zoom, loss2_zoom, 'b')\n",
        "plt.title('MAE and Loss')\n",
        "plt.xlabel(\"Epochs\")\n",
        "plt.ylabel(\"Accuracy\")\n",
        "plt.legend([\"MAE\", \"Loss\"])"
      ],
      "execution_count": null,
      "outputs": [
        {
          "output_type": "execute_result",
          "data": {
            "text/plain": [
              "<matplotlib.legend.Legend at 0x7f3402522a90>"
            ]
          },
          "metadata": {
            "tags": []
          },
          "execution_count": 45
        },
        {
          "output_type": "display_data",
          "data": {
            "image/png": "[encoded data removed]",
            "text/plain": [
              "<Figure size 720x432 with 1 Axes>"
            ]
          },
          "metadata": {
            "tags": [],
            "needs_background": "light"
          }
        }
      ]
    },
    {
      "cell_type": "code",
      "metadata": {
        "id": "NtOA0eDgeP0x",
        "colab": {
          "base_uri": "https://localhost:8080/",
          "height": 34
        },
        "outputId": "5c164367-ac0b-42e5-a05d-547c38d66397"
      },
      "source": [
        "savefig('4_exp2_retrieve_training_mae_loss_zoomin')"
      ],
      "execution_count": null,
      "outputs": [
        {
          "output_type": "display_data",
          "data": {
            "text/plain": [
              "<Figure size 432x288 with 0 Axes>"
            ]
          },
          "metadata": {
            "tags": []
          }
        }
      ]
    },
    {
      "cell_type": "code",
      "metadata": {
        "id": "uwmaMbEYeRnh"
      },
      "source": [
        "# Experiment 3\n",
        "t.manual_seed(1729)\n",
        "np.random.seed(1729)"
      ],
      "execution_count": null,
      "outputs": []
    },
    {
      "cell_type": "code",
      "metadata": {
        "id": "jbAndKLneThl"
      },
      "source": [
        "dataset3 = windowed_dataset(x_train, window_size, batch_size,\n",
        "                            shuffle_buffer_size)"
      ],
      "execution_count": null,
      "outputs": []
    },
    {
      "cell_type": "code",
      "metadata": {
        "id": "EDSaaQx1eVp7"
      },
      "source": [
        "model3 = Sequential(Net(hidden_size=32))\n",
        "model3.t_compile(loss=nn.MSELoss(),\n",
        "                 optimizer=optim.SGD(model3.model.parameters(), lr=1e-6,\n",
        "                                     momentum=0.9), metric=mean_absolute_error)"
      ],
      "execution_count": null,
      "outputs": []
    },
    {
      "cell_type": "code",
      "metadata": {
        "id": "oGMJdDFYeXKD",
        "colab": {
          "base_uri": "https://localhost:8080/"
        },
        "outputId": "d37e0245-73ec-4986-e5e7-8be30864b975"
      },
      "source": [
        "history3 = model3.t_fit(dataset3, epochs=100)"
      ],
      "execution_count": null,
      "outputs": [
        {
          "output_type": "stream",
          "text": [
            "epoch:  0 . Loss:  737.9325948079427\n",
            "epoch:  1 . Loss:  184.41312052408855\n",
            "epoch:  2 . Loss:  89.16748415629068\n",
            "epoch:  3 . Loss:  61.44231808980306\n",
            "epoch:  4 . Loss:  56.809992090861\n",
            "epoch:  5 . Loss:  56.331047948201494\n",
            "epoch:  6 . Loss:  52.016676584879555\n",
            "epoch:  7 . Loss:  54.53751799265544\n",
            "epoch:  8 . Loss:  51.94795926411947\n",
            "epoch:  9 . Loss:  50.00369059244792\n",
            "epoch:  10 . Loss:  49.712731552124026\n",
            "epoch:  11 . Loss:  49.15596268971761\n",
            "epoch:  12 . Loss:  53.855201466878256\n",
            "epoch:  13 . Loss:  56.373850695292155\n",
            "epoch:  14 . Loss:  51.36183999379476\n",
            "epoch:  15 . Loss:  49.41368560791015\n",
            "epoch:  16 . Loss:  49.090684254964195\n",
            "epoch:  17 . Loss:  47.89372316996256\n",
            "epoch:  18 . Loss:  51.240081469217934\n",
            "epoch:  19 . Loss:  47.693078231811526\n",
            "epoch:  20 . Loss:  48.490183130900064\n",
            "epoch:  21 . Loss:  49.008682060241696\n",
            "epoch:  22 . Loss:  50.68254152933756\n",
            "epoch:  23 . Loss:  56.5902935663859\n",
            "epoch:  24 . Loss:  51.19628779093424\n",
            "epoch:  25 . Loss:  48.30945453643799\n",
            "epoch:  26 . Loss:  47.83442980448405\n",
            "epoch:  27 . Loss:  47.962144406636554\n",
            "epoch:  28 . Loss:  49.10858039855957\n",
            "epoch:  29 . Loss:  47.95604082743327\n",
            "epoch:  30 . Loss:  46.96800479888916\n",
            "epoch:  31 . Loss:  50.38254222869873\n",
            "epoch:  32 . Loss:  47.607862281799314\n",
            "epoch:  33 . Loss:  46.97423400878906\n",
            "epoch:  34 . Loss:  50.28933842976888\n",
            "epoch:  35 . Loss:  51.15131982167562\n",
            "epoch:  36 . Loss:  47.363711738586424\n",
            "epoch:  37 . Loss:  50.80824629465739\n",
            "epoch:  38 . Loss:  48.401929982503255\n",
            "epoch:  39 . Loss:  49.81812388102214\n",
            "epoch:  40 . Loss:  49.014787101745604\n",
            "epoch:  41 . Loss:  47.750490760803224\n",
            "epoch:  42 . Loss:  46.37079957326253\n",
            "epoch:  43 . Loss:  50.08732897440593\n",
            "epoch:  44 . Loss:  48.44348824818929\n",
            "epoch:  45 . Loss:  45.59701309204102\n",
            "epoch:  46 . Loss:  53.942015647888184\n",
            "epoch:  47 . Loss:  54.07811063130696\n",
            "epoch:  48 . Loss:  50.32031122843424\n",
            "epoch:  49 . Loss:  47.36864166259765\n",
            "epoch:  50 . Loss:  46.663198471069336\n",
            "epoch:  51 . Loss:  45.371962229410805\n",
            "epoch:  52 . Loss:  48.88525282541911\n",
            "epoch:  53 . Loss:  47.4354190826416\n",
            "epoch:  54 . Loss:  46.593716557820635\n",
            "epoch:  55 . Loss:  49.20302168528239\n",
            "epoch:  56 . Loss:  54.00658047993978\n",
            "epoch:  57 . Loss:  47.29042574564616\n",
            "epoch:  58 . Loss:  45.531273396809894\n",
            "epoch:  59 . Loss:  48.40066515604655\n",
            "epoch:  60 . Loss:  48.477860641479495\n",
            "epoch:  61 . Loss:  47.04698486328125\n",
            "epoch:  62 . Loss:  51.66301759084066\n",
            "epoch:  63 . Loss:  47.16284262339274\n",
            "epoch:  64 . Loss:  47.276930046081546\n",
            "epoch:  65 . Loss:  46.303357950846355\n",
            "epoch:  66 . Loss:  48.0190762201945\n",
            "epoch:  67 . Loss:  47.74458662668864\n",
            "epoch:  68 . Loss:  48.267526690165205\n",
            "epoch:  69 . Loss:  45.785011800130206\n",
            "epoch:  70 . Loss:  46.643710009257\n",
            "epoch:  71 . Loss:  46.56408716837565\n",
            "epoch:  72 . Loss:  46.16159178415934\n",
            "epoch:  73 . Loss:  46.33177541097005\n",
            "epoch:  74 . Loss:  46.423799705505374\n",
            "epoch:  75 . Loss:  49.45831457773844\n",
            "epoch:  76 . Loss:  46.5908920288086\n",
            "epoch:  77 . Loss:  50.97397301991781\n",
            "epoch:  78 . Loss:  46.39213956197103\n",
            "epoch:  79 . Loss:  48.314808209737144\n",
            "epoch:  80 . Loss:  44.97981961568197\n",
            "epoch:  81 . Loss:  47.6549565633138\n",
            "epoch:  82 . Loss:  48.876392682393394\n",
            "epoch:  83 . Loss:  47.680867767333986\n",
            "epoch:  84 . Loss:  51.03912804921468\n",
            "epoch:  85 . Loss:  48.10525582631429\n",
            "epoch:  86 . Loss:  50.48359495798747\n",
            "epoch:  87 . Loss:  49.83878389994303\n",
            "epoch:  88 . Loss:  49.009069951375324\n",
            "epoch:  89 . Loss:  51.26991341908773\n",
            "epoch:  90 . Loss:  48.079928970336915\n",
            "epoch:  91 . Loss:  48.600447018941246\n",
            "epoch:  92 . Loss:  46.398414611816406\n",
            "epoch:  93 . Loss:  45.13517506917318\n",
            "epoch:  94 . Loss:  45.567697016398114\n",
            "epoch:  95 . Loss:  44.95056381225586\n",
            "epoch:  96 . Loss:  46.80790875752767\n",
            "epoch:  97 . Loss:  46.71379248301188\n",
            "epoch:  98 . Loss:  48.148118019104004\n",
            "epoch:  99 . Loss:  49.06210810343425\n",
            "Finished Training\n"
          ],
          "name": "stdout"
        }
      ]
    },
    {
      "cell_type": "code",
      "metadata": {
        "id": "Yg2Vu2wkeYli"
      },
      "source": [
        "forecast3 = []\n",
        "for time in range(len(series) - window_size):\n",
        "    forecast_feature3 = series[time:time + window_size][np.newaxis]\n",
        "    forecast3.append(model3.t_predict(t.from_numpy(forecast_feature3)))"
      ],
      "execution_count": null,
      "outputs": []
    },
    {
      "cell_type": "code",
      "metadata": {
        "id": "wkMnPf--eaPJ",
        "colab": {
          "base_uri": "https://localhost:8080/"
        },
        "outputId": "3ca55dba-530a-40cc-a90c-adccf1d3ee15"
      },
      "source": [
        "forecast3 = forecast3[split_time-window_size:]\n",
        "results3 = t.cat(forecast3).detach().numpy()[:, 0]\n",
        "print(mean_absolute_error(x_valid, results3))"
      ],
      "execution_count": null,
      "outputs": [
        {
          "output_type": "stream",
          "text": [
            "5.534319\n"
          ],
          "name": "stdout"
        }
      ]
    },
    {
      "cell_type": "code",
      "metadata": {
        "id": "bhyEOWTpecs4"
      },
      "source": [
        "# Experiment 4\n",
        "t.manual_seed(1729)\n",
        "np.random.seed(1729)"
      ],
      "execution_count": null,
      "outputs": []
    },
    {
      "cell_type": "code",
      "metadata": {
        "id": "5Y_-9GMZee8t"
      },
      "source": [
        "dataset4 = windowed_dataset(x_train, window_size, batch_size,\n",
        "                            shuffle_buffer_size)"
      ],
      "execution_count": null,
      "outputs": []
    },
    {
      "cell_type": "code",
      "metadata": {
        "id": "aAkM2_OJeglU"
      },
      "source": [
        "model4 = Sequential(Net4(hidden_size=32))\n",
        "model4.t_compile(loss=nn.MSELoss(),\n",
        "                 optimizer=optim.SGD(model4.model.parameters(), lr=1e-6,\n",
        "                                     momentum=0.9), metric=mean_absolute_error)"
      ],
      "execution_count": null,
      "outputs": []
    },
    {
      "cell_type": "code",
      "metadata": {
        "id": "4BANd6FJejJg",
        "colab": {
          "base_uri": "https://localhost:8080/"
        },
        "outputId": "1d53d69b-8137-4f1b-dd66-0e2b09d24c30"
      },
      "source": [
        "model4.t_fit(dataset4, epochs=100)"
      ],
      "execution_count": null,
      "outputs": [
        {
          "output_type": "stream",
          "text": [
            "epoch:  0 . Loss:  595.5404744466146\n",
            "epoch:  1 . Loss:  383.28431243896483\n",
            "epoch:  2 . Loss:  311.6622812906901\n",
            "epoch:  3 . Loss:  222.7046666463216\n",
            "epoch:  4 . Loss:  134.68240025838216\n",
            "epoch:  5 . Loss:  97.66664810180664\n",
            "epoch:  6 . Loss:  77.54862899780274\n",
            "epoch:  7 . Loss:  70.7789379119873\n",
            "epoch:  8 . Loss:  63.70968488057454\n",
            "epoch:  9 . Loss:  62.290893173217775\n",
            "epoch:  10 . Loss:  59.46290690104167\n",
            "epoch:  11 . Loss:  59.43899885813395\n",
            "epoch:  12 . Loss:  59.45224170684814\n",
            "epoch:  13 . Loss:  53.6492426554362\n",
            "epoch:  14 . Loss:  54.79030316670735\n",
            "epoch:  15 . Loss:  52.095781834920246\n",
            "epoch:  16 . Loss:  52.07660967508952\n",
            "epoch:  17 . Loss:  56.16812489827474\n",
            "epoch:  18 . Loss:  57.54505208333333\n",
            "epoch:  19 . Loss:  54.71561075846354\n",
            "epoch:  20 . Loss:  55.05087661743164\n",
            "epoch:  21 . Loss:  61.89314181009929\n",
            "epoch:  22 . Loss:  55.57010313669841\n",
            "epoch:  23 . Loss:  50.012370618184406\n",
            "epoch:  24 . Loss:  52.79245630900065\n",
            "epoch:  25 . Loss:  51.451252174377444\n",
            "epoch:  26 . Loss:  49.34676564534505\n",
            "epoch:  27 . Loss:  51.311302248636885\n",
            "epoch:  28 . Loss:  50.57597624460856\n",
            "epoch:  29 . Loss:  52.61232738494873\n",
            "epoch:  30 . Loss:  63.76990871429443\n",
            "epoch:  31 . Loss:  51.61050084431966\n",
            "epoch:  32 . Loss:  50.0723819732666\n",
            "epoch:  33 . Loss:  53.32807248433431\n",
            "epoch:  34 . Loss:  52.84373162587484\n",
            "epoch:  35 . Loss:  50.26959667205811\n",
            "epoch:  36 . Loss:  50.09156080881755\n",
            "epoch:  37 . Loss:  48.548771158854166\n",
            "epoch:  38 . Loss:  49.66350015004476\n",
            "epoch:  39 . Loss:  49.091911951700844\n",
            "epoch:  40 . Loss:  51.671834754943845\n",
            "epoch:  41 . Loss:  51.01610558827718\n",
            "epoch:  42 . Loss:  50.50142866770427\n",
            "epoch:  43 . Loss:  54.86678504943848\n",
            "epoch:  44 . Loss:  51.267160733540855\n",
            "epoch:  45 . Loss:  49.18482418060303\n",
            "epoch:  46 . Loss:  50.01369724273682\n",
            "epoch:  47 . Loss:  50.631452496846514\n",
            "epoch:  48 . Loss:  48.71977208455404\n",
            "epoch:  49 . Loss:  51.208485794067386\n",
            "epoch:  50 . Loss:  48.609257253011066\n",
            "epoch:  51 . Loss:  48.40548203786214\n",
            "epoch:  52 . Loss:  51.198140970865886\n",
            "epoch:  53 . Loss:  53.40157508850098\n",
            "epoch:  54 . Loss:  50.732137489318845\n",
            "epoch:  55 . Loss:  47.480752595265706\n",
            "epoch:  56 . Loss:  52.26713956197103\n",
            "epoch:  57 . Loss:  51.523326365153\n",
            "epoch:  58 . Loss:  49.983306566874184\n",
            "epoch:  59 . Loss:  54.96481711069743\n",
            "epoch:  60 . Loss:  48.75503896077474\n",
            "epoch:  61 . Loss:  49.69163824717204\n",
            "epoch:  62 . Loss:  48.91143983205159\n",
            "epoch:  63 . Loss:  49.12998994191488\n",
            "epoch:  64 . Loss:  51.08393039703369\n",
            "epoch:  65 . Loss:  51.50913798014323\n",
            "epoch:  66 . Loss:  54.83264001210531\n",
            "epoch:  67 . Loss:  48.99614238739014\n",
            "epoch:  68 . Loss:  52.71814231872558\n",
            "epoch:  69 . Loss:  54.445201047261556\n",
            "epoch:  70 . Loss:  49.565474383036296\n",
            "epoch:  71 . Loss:  46.84506759643555\n",
            "epoch:  72 . Loss:  49.110768699645995\n",
            "epoch:  73 . Loss:  49.540604782104495\n",
            "epoch:  74 . Loss:  50.20021069844564\n",
            "epoch:  75 . Loss:  47.38405961990357\n",
            "epoch:  76 . Loss:  47.89721857706706\n",
            "epoch:  77 . Loss:  49.208479245503746\n",
            "epoch:  78 . Loss:  48.344024340311684\n",
            "epoch:  79 . Loss:  49.03455848693848\n",
            "epoch:  80 . Loss:  46.62685928344727\n",
            "epoch:  81 . Loss:  48.96009667714437\n",
            "epoch:  82 . Loss:  47.87248611450195\n",
            "epoch:  83 . Loss:  46.79757461547852\n",
            "epoch:  84 . Loss:  46.50953197479248\n",
            "epoch:  85 . Loss:  46.8968908627828\n",
            "epoch:  86 . Loss:  46.70223929087321\n",
            "epoch:  87 . Loss:  48.72266934712728\n",
            "epoch:  88 . Loss:  48.2559019724528\n",
            "epoch:  89 . Loss:  47.33619715372721\n",
            "epoch:  90 . Loss:  46.98624617258708\n",
            "epoch:  91 . Loss:  47.290490023295085\n",
            "epoch:  92 . Loss:  49.341207313537595\n",
            "epoch:  93 . Loss:  46.73740008672078\n",
            "epoch:  94 . Loss:  48.45381158192952\n",
            "epoch:  95 . Loss:  48.25106789271037\n",
            "epoch:  96 . Loss:  47.27195491790771\n",
            "epoch:  97 . Loss:  47.04209594726562\n",
            "epoch:  98 . Loss:  47.23724683125814\n",
            "epoch:  99 . Loss:  46.8556599299113\n",
            "Finished Training\n"
          ],
          "name": "stdout"
        },
        {
          "output_type": "execute_result",
          "data": {
            "text/plain": [
              "<__main__.History at 0x7f34024f8828>"
            ]
          },
          "metadata": {
            "tags": []
          },
          "execution_count": 56
        }
      ]
    },
    {
      "cell_type": "code",
      "metadata": {
        "id": "YQeLO6Ubekwx"
      },
      "source": [
        "forecast4 = []\n",
        "for time in range(len(series) - window_size):\n",
        "    forecast_feature4 = series[time:time + window_size][np.newaxis]\n",
        "    forecast4.append(model4.t_predict(t.from_numpy(forecast_feature4)))"
      ],
      "execution_count": null,
      "outputs": []
    },
    {
      "cell_type": "code",
      "metadata": {
        "id": "c-qJJ1e5ensa",
        "colab": {
          "base_uri": "https://localhost:8080/"
        },
        "outputId": "db2cd117-eeb5-4e99-c7f5-96fd3580c3ae"
      },
      "source": [
        "forecast4 = forecast4[split_time-window_size:]\n",
        "results4 = t.cat(forecast4).detach().numpy()[:, 0]\n",
        "print(mean_absolute_error(x_valid, results4))"
      ],
      "execution_count": null,
      "outputs": [
        {
          "output_type": "stream",
          "text": [
            "5.495116\n"
          ],
          "name": "stdout"
        }
      ]
    },
    {
      "cell_type": "code",
      "metadata": {
        "id": "e2FlpLUqepiA"
      },
      "source": [
        ""
      ],
      "execution_count": null,
      "outputs": []
    }
  ]
}